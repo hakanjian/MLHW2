{
 "cells": [
  {
   "cell_type": "code",
   "execution_count": 1,
   "id": "loose-singapore",
   "metadata": {
    "tags": []
   },
   "outputs": [],
   "source": [
    "import gzip\n",
    "import numpy as np\n",
    "import matplotlib.pyplot as plt\n",
    "\n",
    "\n",
    "def load_fashion_mnist():\n",
    "    \"\"\"\n",
    "    Loads Fashion MNIST dataset.\n",
    "    \n",
    "    Adapted from: https://github.com/zalandoresearch/fashion-mnist/blob/master/utils/mnist_reader.py\n",
    "    \"\"\"\n",
    "    TRAIN_IMAGES = 'train-images-idx3-ubyte.gz'\n",
    "    TRAIN_LABELS = 'train-labels-idx1-ubyte.gz'    \n",
    "    TEST_IMAGES = 't10k-images-idx3-ubyte.gz'\n",
    "    TEST_LABELS = 't10k-labels-idx1-ubyte.gz'\n",
    "\n",
    "    with gzip.open(TRAIN_LABELS, 'rb') as tr_labels_file, gzip.open(TEST_LABELS, 'rb') as ts_labels_file:\n",
    "        train_labels = np.frombuffer(tr_labels_file.read(), dtype=np.uint8, offset=8)\n",
    "        test_labels = np.frombuffer(ts_labels_file.read(), dtype=np.uint8, offset=8)\n",
    "\n",
    "    with gzip.open(TRAIN_IMAGES, 'rb') as tr_images_file, gzip.open(TEST_IMAGES, 'rb') as ts_images_file:\n",
    "        train_images = np.frombuffer(tr_images_file.read(), dtype=np.uint8, offset=16).reshape(len(train_labels), 784)\n",
    "        test_images = np.frombuffer(ts_images_file.read(), dtype=np.uint8, offset=16).reshape(len(test_labels), 784)\n",
    "\n",
    "    return train_images, train_labels, test_images, test_labels"
   ]
  },
  {
   "cell_type": "code",
   "execution_count": 2,
   "id": "civilian-shift",
   "metadata": {
    "tags": []
   },
   "outputs": [],
   "source": [
    "def pretty_print(image_example):\n",
    "    \"\"\" Pretty prints a Fashion MNIST example.\n",
    "\n",
    "    Parameters:\n",
    "        image_example: a 1x784 numpy array corresponding to the features of\n",
    "                       a single image.\n",
    "\n",
    "    Returns:\n",
    "        None.\n",
    "    \"\"\"\n",
    "    print(np.array_str(image_example, precision=1, max_line_width=116))\n"
   ]
  },
  {
   "cell_type": "code",
   "execution_count": 3,
   "id": "valuable-university",
   "metadata": {
    "tags": []
   },
   "outputs": [],
   "source": [
    "def usage_example():\n",
    "    \"\"\" Example of how to load and parse Fashion MNIST data. \"\"\"\n",
    "    \n",
    "    train_images, train_labels, test_images, test_labels = load_fashion_mnist()\n",
    "\n",
    "    # train_images is a 60,000 x 784 numpy matrix. There are 60k\n",
    "    # rows in the matrix, each row corresponding to a single example.\n",
    "    # There are 784 columns, each corresponding to the value of a\n",
    "    # single pixel in the 28x28 image after it has been \"flattened\".\n",
    "    print(\"Dimensions of training set feature matrix:\", train_images.shape)\n",
    "\n",
    "    # The labels for each example are maintained separately in train_labels.\n",
    "    # This is a 60,000 x 1 numpy matrix, where each element is the label\n",
    "    # for the corresponding training example.\n",
    "    print(\"Dimensions of training set label matrix:\", train_labels.shape)\n",
    "\n",
    "    # Example of how to access a individual training example (in this case,\n",
    "    # we pick an example at a random index). We could use print to output the\n",
    "    # raw pixel values to the screen, but pretty_print formats the data in \n",
    "    # a nicer way: if you squint, you may be able to make out the contours of\n",
    "    # the fashion article in the matrix data.\n",
    "    EXAMPLE_INDEX = np.random.randint(60000)\n",
    "    print(\"Features of training example at index {}:\\n\".format(EXAMPLE_INDEX))\n",
    "    pretty_print(train_images[EXAMPLE_INDEX])\n",
    "\n",
    "    # And here's the label that goes with that training example\n",
    "    print(\"\\nLabel of training example at index {}:\".format(EXAMPLE_INDEX), train_labels[EXAMPLE_INDEX], '\\n')\n",
    "\n",
    "    # Finally, let's visualize the example we've picked as a 28x28 image\n",
    "    plt.figure()\n",
    "    plt.imshow(train_images[EXAMPLE_INDEX].reshape(28, 28))\n",
    "    plt.show()\n",
    "    \n",
    "    # The test_images/test_labels are organized in the same way, but only contain 10k\n",
    "    # examples. Don't touch this data until your model is frozen! Perform all\n",
    "    # cross-validation, model selection, hyperparameter tuning etc. on the 60k\n",
    "    # training set. Use the test set simply for reporting performance.\n"
   ]
  },
  {
   "cell_type": "code",
   "execution_count": 4,
   "id": "international-lemon",
   "metadata": {
    "tags": []
   },
   "outputs": [
    {
     "name": "stdout",
     "output_type": "stream",
     "text": [
      "Dimensions of training set feature matrix: (60000, 784)\n",
      "Dimensions of training set label matrix: (60000,)\n",
      "Features of training example at index 48427:\n",
      "\n",
      "[  0   0   0   0   0   0   0   0   0   0   0   0   0   0   0   0   0   0   0   0   0   0   0   0   0   0   0   0\n",
      "   0   0   0   0   0   0   0   0   0   0   0   0   0   0   0   0   0   0   0   0   0   0   0   0   0   0   0   0\n",
      "   0   0   0   0   0   0   0   0   0   0   0   0   0   0   0   0   0   0   0   0   0   0   0   0   0   0   0   0\n",
      "   0   0   0   0   0   0   0   0   0   0   0   0   0   0   0   0   0   0   0   0   0   0   0   0   0   0   0   0\n",
      "   0   0   0   0   0   0   0   0   0   0   0   0   0   0   0   6  63  63  42   0   0   0   0   0   0   0 132  68\n",
      "   0   0   0   0   0   0   0   0   0   0   0   0   0   5   0 117 242 231 255 233 251 214 170 199 181 170  70 100\n",
      "   0   0   0   0   0   0   0   0   0   0   0   0   0   6   0 147 226 205 213 216 223 227 233 228 248 205  40 110\n",
      "   0   0   0   0   0   0   0   0   0   0   0   0   0   0   0 184 226 211 214 210 218 211 208 222 222 192 137   0\n",
      "   0   0   0   0   0   0   0   0   0   0   0   0   0   0   0 208 216 208 215 213 221 214 227 216 227 245  12   0\n",
      "   0   0   0   0   0   0   0   0   0   0   0   0   1   0   0 235 219 211 216 224 220 217 225 224 237 145   0   0\n",
      "   0   0   0   0   0   0   0   0   0   0   0   0   0   0  80 244 211 226 218 225 220 221 224 215 237 125   0   0\n",
      "   0   0   0   0   0   0   0   0   1   0   0   0   0  67 216 216 219 224 223 220 221 229 232 224 238 144   0   0\n",
      "   0   0   1   2   0   0   0   0   2   8   1   0  52 189 206 231 219 221 221 223 224 231 221 203 215 132   0   0\n",
      "   0   0   0   1   0   1   2   0   1   0   0  65 185 198 233 221 218 227 229 232 214 204 201 192 225 138   0   0\n",
      "   0   3   6   3   0   0   0   0   0   0 127 174 169 233 234 216 223 224 210 165 220 210 204 199 210 171   0   0\n",
      "   0   0   0   0   0   0   0   0  73 166 157 150 232 231 222 215 218 215 203 192 218 208 205 201 206 191   0   0\n",
      "   0   0  81  87  91 105 142 153 154 127 152 246 224 211 222 216 225 198 201 219 208 212 207 200 204 202   0   0\n",
      "   0 105 180 143 135 126 117 118 130 163 205 237 217 220 225 228 239 211 215 213 212 206 211 195 206 189   0   0\n",
      "   0 187 214 191 179 172 183 197 196 194 189 209 225 229 230 233 235 210 216 217 220 225 224 216 213 179   0   0\n",
      " 110 204 193 221 231 229 228 219 221 214 223 228 240 245 231 230 229 210 215 209 203 202 194 184 177 191   8   0\n",
      "  44 226 218 208 208 207 206 214 213 205 213 210 204 215 226 233 233 199 193 199 197 192 193 187 190 207  50   0\n",
      "   0   0  67 154 182 216 255 216 212 222 221 209 255 177 139 113  40 226 242 221 225 228 211 214 200 196  27   0\n",
      "   1   0   0   0   0   0  32   0  41  85  15  53  70   0   0   0   0  17 103  26  38  77  12  34  14   0   0   0\n",
      "   0   1   1   3   5   0   0   0   0   0   0   0   0   0   1   0   0   0   0   0   0   0   0   0   0   0   0   0\n",
      "   0   0   0   0   0   0   0   0   0   0   0   0   0   0   0   0   0   0   0   0   0   0   0   0   0   0   0   0\n",
      "   0   0   0   0   0   0   0   0   0   0   0   0   0   0   0   0   0   0   0   0   0   0   0   0   0   0   0   0\n",
      "   0   0   0   0   0   0   0   0   0   0   0   0   0   0   0   0   0   0   0   0   0   0   0   0   0   0   0   0\n",
      "   0   0   0   0   0   0   0   0   0   0   0   0   0   0   0   0   0   0   0   0   0   0   0   0   0   0   0   0]\n",
      "\n",
      "Label of training example at index 48427: 9 \n",
      "\n"
     ]
    },
    {
     "data": {
      "image/png": "[encoded data removed]",
      "text/plain": [
       "<Figure size 432x288 with 1 Axes>"
      ]
     },
     "metadata": {
      "needs_background": "light"
     },
     "output_type": "display_data"
    }
   ],
   "source": [
    "usage_example()"
   ]
  },
  {
   "cell_type": "code",
   "execution_count": 5,
   "id": "86c06bfd-2b65-4308-8536-78f85c534c02",
   "metadata": {},
   "outputs": [],
   "source": [
    "import sklearn\n",
    "train_images, train_labels, test_images, test_labels = load_fashion_mnist()"
   ]
  },
  {
   "cell_type": "code",
   "execution_count": 6,
   "id": "9275c0bb-90e0-4863-a352-af06d65f2441",
   "metadata": {},
   "outputs": [
    {
     "data": {
      "text/plain": [
       "array([9, 0, 0, ..., 3, 0, 5], dtype=uint8)"
      ]
     },
     "execution_count": 6,
     "metadata": {},
     "output_type": "execute_result"
    }
   ],
   "source": [
    "train_labels"
   ]
  },
  {
   "cell_type": "code",
   "execution_count": 7,
   "id": "7fed345f-d1da-4c5a-8fb8-bf91cac58d09",
   "metadata": {},
   "outputs": [
    {
     "data": {
      "text/plain": [
       "(array([6000, 6000, 6000, 6000, 6000, 6000, 6000, 6000, 6000, 6000]),\n",
       " array([ 0,  1,  2,  3,  4,  5,  6,  7,  8,  9, 10]))"
      ]
     },
     "execution_count": 7,
     "metadata": {},
     "output_type": "execute_result"
    }
   ],
   "source": [
    "#These are completely balanced\n",
    "r = [0,1,2,3,4,5,6,7,8,9,10]\n",
    "np.histogram(train_labels, bins=r)"
   ]
  },
  {
   "cell_type": "code",
   "execution_count": 8,
   "id": "1166b467-4342-47e7-a470-329c35637472",
   "metadata": {
    "tags": []
   },
   "outputs": [],
   "source": [
    "from numpy import linalg as LA\n",
    "from scipy import stats\n",
    "def compute_distances(train_X, test_example):\n",
    "    \"\"\"\n",
    "    Returns a vector of the distances between the given test_example\n",
    "    and every training example in the matrix train_X.\n",
    "    \n",
    "    Parameters:\n",
    "        train_X - an nx3 matrix, containing n training examples\n",
    "        test_examples - a 1x3 vector containing a test example to classify\n",
    "        \n",
    "    Returns:\n",
    "        An nx1 matrix containing the distances from test_example to all the\n",
    "        examples in train_X.\n",
    "    \"\"\"\n",
    "    \n",
    "    return LA.norm(train_X - test_example, ord=1, axis=1)\n",
    "\n",
    "def predict_one(distances, y_train, k):\n",
    "    \"\"\"\n",
    "    Given a vector of distances between a test example and all the training examples,\n",
    "    makes a prediction using a majority vote of k nearest neighbors.\n",
    "    \n",
    "    Parameters:\n",
    "        distances - an nx1 matrix containing the distances from a test example to\n",
    "                    all training examples.\n",
    "        train_y - an nx1 matrix containing the true labels\n",
    "        k - the number of neighbors participating in the prediction\n",
    "        \n",
    "    Returns:\n",
    "        A classification for the test example in question (i.e., either a 0 or a 1).\n",
    "    \"\"\"\n",
    "    result = np.argpartition(distances,k)[:k]\n",
    "    classification = y_train[result]\n",
    "    return stats.mode(classification, axis=None)[0][0]\n",
    "\n",
    "def predict_all(X_train, y_train, X_test, k):\n",
    "    \"\"\"\n",
    "    Makes a k-NN prediction for every example in X_test, using (X_train, y_train).\n",
    "    \n",
    "    Parameters:\n",
    "        X_train - matrix of training data\n",
    "        y_train - vector of training labels\n",
    "        X_test - matrix of test data to be classified\n",
    "        k - the number of nearest neighbors participating in the classification.\n",
    "        \n",
    "    Returns:\n",
    "        An nx1 matrix of predictions for every test case.\n",
    "    \"\"\"\n",
    "    y_preds = []\n",
    "    for ex in X_test:\n",
    "        distances = compute_distances(X_train, ex)\n",
    "        p = predict_one(distances, y_train, k)\n",
    "        y_preds.append(p)\n",
    "    return y_preds"
   ]
  },
  {
   "cell_type": "code",
   "execution_count": 9,
   "id": "14860462-e4a0-4519-bd66-f113919b4b33",
   "metadata": {},
   "outputs": [],
   "source": [
    "tI = train_images[:500]\n",
    "tL = train_labels[:500]\n",
    "teI = test_images[:500]\n",
    "teL = test_labels[:500]\n",
    "from sklearn.metrics import confusion_matrix, f1_score"
   ]
  },
  {
   "cell_type": "code",
   "execution_count": 10,
   "id": "bbd84512-bd2d-4921-a5d9-a0dee122e1c6",
   "metadata": {},
   "outputs": [],
   "source": [
    "def convert_to_binary(image):\n",
    "    binary = np.zeros(image.shape)\n",
    "    for i in range(0,image.shape[0]):\n",
    "        if image[i] > 128 :\n",
    "            binary[i] = 1\n",
    "    return binary\n",
    "\n",
    "def all_to_binary(images):\n",
    "    binary = []\n",
    "    for image in images:\n",
    "        binary.append(convert_to_binary(image))\n",
    "    return np.array(binary)"
   ]
  },
  {
   "cell_type": "code",
   "execution_count": 15,
   "id": "8a3ec0ed-209c-4407-bef1-2762825d347c",
   "metadata": {},
   "outputs": [],
   "source": [
    "#binary training\n",
    "tIb = all_to_binary(train_images)\n",
    "teIb = all_to_binary(test_images)\n",
    "tIb5 = all_to_binary(train_images[:500])\n",
    "teIb5 = all_to_binary(test_images[:500])"
   ]
  },
  {
   "cell_type": "code",
   "execution_count": 14,
   "id": "74bae169-f34d-4eb0-955c-22a073240ddc",
   "metadata": {
    "collapsed": true,
    "jupyter": {
     "outputs_hidden": true
    },
    "tags": []
   },
   "outputs": [
    {
     "ename": "KeyboardInterrupt",
     "evalue": "",
     "output_type": "error",
     "traceback": [
      "\u001b[0;31m---------------------------------------------------------------------------\u001b[0m",
      "\u001b[0;31mKeyboardInterrupt\u001b[0m                         Traceback (most recent call last)",
      "Input \u001b[0;32mIn [14]\u001b[0m, in \u001b[0;36m<cell line: 2>\u001b[0;34m()\u001b[0m\n\u001b[1;32m      1\u001b[0m \u001b[38;5;66;03m#Non binary with our KNN Implementation\u001b[39;00m\n\u001b[0;32m----> 2\u001b[0m preds \u001b[38;5;241m=\u001b[39m \u001b[43mpredict_all\u001b[49m\u001b[43m(\u001b[49m\u001b[43mtrain_images\u001b[49m\u001b[43m,\u001b[49m\u001b[43m \u001b[49m\u001b[43mtrain_labels\u001b[49m\u001b[43m,\u001b[49m\u001b[43m \u001b[49m\u001b[43mtest_images\u001b[49m\u001b[43m,\u001b[49m\u001b[43m \u001b[49m\u001b[38;5;241;43m5\u001b[39;49m\u001b[43m)\u001b[49m\n\u001b[1;32m      3\u001b[0m \u001b[38;5;28mprint\u001b[39m(\u001b[38;5;124m\"\u001b[39m\u001b[38;5;124mNon-Binary Values\u001b[39m\u001b[38;5;124m\"\u001b[39m)\n\u001b[1;32m      4\u001b[0m \u001b[38;5;28mprint\u001b[39m(confusion_matrix(test_labels, preds))\n",
      "Input \u001b[0;32mIn [8]\u001b[0m, in \u001b[0;36mpredict_all\u001b[0;34m(X_train, y_train, X_test, k)\u001b[0m\n\u001b[1;32m     50\u001b[0m y_preds \u001b[38;5;241m=\u001b[39m []\n\u001b[1;32m     51\u001b[0m \u001b[38;5;28;01mfor\u001b[39;00m ex \u001b[38;5;129;01min\u001b[39;00m X_test:\n\u001b[0;32m---> 52\u001b[0m     distances \u001b[38;5;241m=\u001b[39m \u001b[43mcompute_distances\u001b[49m\u001b[43m(\u001b[49m\u001b[43mX_train\u001b[49m\u001b[43m,\u001b[49m\u001b[43m \u001b[49m\u001b[43mex\u001b[49m\u001b[43m)\u001b[49m\n\u001b[1;32m     53\u001b[0m     p \u001b[38;5;241m=\u001b[39m predict_one(distances, y_train, k)\n\u001b[1;32m     54\u001b[0m     y_preds\u001b[38;5;241m.\u001b[39mappend(p)\n",
      "Input \u001b[0;32mIn [8]\u001b[0m, in \u001b[0;36mcompute_distances\u001b[0;34m(train_X, test_example)\u001b[0m\n\u001b[1;32m      3\u001b[0m \u001b[38;5;28;01mdef\u001b[39;00m \u001b[38;5;21mcompute_distances\u001b[39m(train_X, test_example):\n\u001b[1;32m      4\u001b[0m     \u001b[38;5;124;03m\"\"\"\u001b[39;00m\n\u001b[1;32m      5\u001b[0m \u001b[38;5;124;03m    Returns a vector of the distances between the given test_example\u001b[39;00m\n\u001b[1;32m      6\u001b[0m \u001b[38;5;124;03m    and every training example in the matrix train_X.\u001b[39;00m\n\u001b[0;32m   (...)\u001b[0m\n\u001b[1;32m     14\u001b[0m \u001b[38;5;124;03m        examples in train_X.\u001b[39;00m\n\u001b[1;32m     15\u001b[0m \u001b[38;5;124;03m    \"\"\"\u001b[39;00m\n\u001b[0;32m---> 17\u001b[0m     \u001b[38;5;28;01mreturn\u001b[39;00m \u001b[43mLA\u001b[49m\u001b[38;5;241;43m.\u001b[39;49m\u001b[43mnorm\u001b[49m\u001b[43m(\u001b[49m\u001b[43mtrain_X\u001b[49m\u001b[43m \u001b[49m\u001b[38;5;241;43m-\u001b[39;49m\u001b[43m \u001b[49m\u001b[43mtest_example\u001b[49m\u001b[43m,\u001b[49m\u001b[43m \u001b[49m\u001b[38;5;28;43mord\u001b[39;49m\u001b[38;5;241;43m=\u001b[39;49m\u001b[38;5;241;43m1\u001b[39;49m\u001b[43m,\u001b[49m\u001b[43m \u001b[49m\u001b[43maxis\u001b[49m\u001b[38;5;241;43m=\u001b[39;49m\u001b[38;5;241;43m1\u001b[39;49m\u001b[43m)\u001b[49m\n",
      "File \u001b[0;32m<__array_function__ internals>:180\u001b[0m, in \u001b[0;36mnorm\u001b[0;34m(*args, **kwargs)\u001b[0m\n",
      "File \u001b[0;32m/opt/pub/eb/apps/all/DavidsonJupyter/2021-common-GCCcore-10.2.0/lib/python3.8/site-packages/numpy/linalg/linalg.py:2553\u001b[0m, in \u001b[0;36mnorm\u001b[0;34m(x, ord, axis, keepdims)\u001b[0m\n\u001b[1;32m   2550\u001b[0m     \u001b[38;5;28;01mreturn\u001b[39;00m (x \u001b[38;5;241m!=\u001b[39m \u001b[38;5;241m0\u001b[39m)\u001b[38;5;241m.\u001b[39mastype(x\u001b[38;5;241m.\u001b[39mreal\u001b[38;5;241m.\u001b[39mdtype)\u001b[38;5;241m.\u001b[39msum(axis\u001b[38;5;241m=\u001b[39maxis, keepdims\u001b[38;5;241m=\u001b[39mkeepdims)\n\u001b[1;32m   2551\u001b[0m \u001b[38;5;28;01melif\u001b[39;00m \u001b[38;5;28mord\u001b[39m \u001b[38;5;241m==\u001b[39m \u001b[38;5;241m1\u001b[39m:\n\u001b[1;32m   2552\u001b[0m     \u001b[38;5;66;03m# special case for speedup\u001b[39;00m\n\u001b[0;32m-> 2553\u001b[0m     \u001b[38;5;28;01mreturn\u001b[39;00m add\u001b[38;5;241m.\u001b[39mreduce(\u001b[38;5;28;43mabs\u001b[39;49m\u001b[43m(\u001b[49m\u001b[43mx\u001b[49m\u001b[43m)\u001b[49m, axis\u001b[38;5;241m=\u001b[39maxis, keepdims\u001b[38;5;241m=\u001b[39mkeepdims)\n\u001b[1;32m   2554\u001b[0m \u001b[38;5;28;01melif\u001b[39;00m \u001b[38;5;28mord\u001b[39m \u001b[38;5;129;01mis\u001b[39;00m \u001b[38;5;28;01mNone\u001b[39;00m \u001b[38;5;129;01mor\u001b[39;00m \u001b[38;5;28mord\u001b[39m \u001b[38;5;241m==\u001b[39m \u001b[38;5;241m2\u001b[39m:\n\u001b[1;32m   2555\u001b[0m     \u001b[38;5;66;03m# special case for speedup\u001b[39;00m\n\u001b[1;32m   2556\u001b[0m     s \u001b[38;5;241m=\u001b[39m (x\u001b[38;5;241m.\u001b[39mconj() \u001b[38;5;241m*\u001b[39m x)\u001b[38;5;241m.\u001b[39mreal\n",
      "\u001b[0;31mKeyboardInterrupt\u001b[0m: "
     ]
    }
   ],
   "source": [
    "#Non binary with our KNN Implementation\n",
    "preds = predict_all(train_images, train_labels, test_images, 5)\n",
    "print(\"Non-Binary Values\")\n",
    "print(confusion_matrix(test_labels, preds))\n",
    "print(f1_score(test_labels, preds, average='micro'))"
   ]
  },
  {
   "cell_type": "code",
   "execution_count": null,
   "id": "9c2ed599-f59d-4377-ae57-aa90e32ee62b",
   "metadata": {},
   "outputs": [],
   "source": [
    "#Binary values with our KNN Implementation\n",
    "predsb = predict_all(tIb, train_images, teIb, 5)\n",
    "print(\"Binary Values\")\n",
    "print(confusion_matrix(test_labels, predsb))\n",
    "print(f1_score(test_labels, predsb, average='micro'))"
   ]
  },
  {
   "cell_type": "markdown",
   "id": "5b7ed96f-ada9-43f6-bf37-4663792ee476",
   "metadata": {},
   "source": [
    "Change around the k value"
   ]
  },
  {
   "cell_type": "code",
   "execution_count": 16,
   "id": "e56ef40c-9432-4ff2-a366-9e9bccea9ca9",
   "metadata": {},
   "outputs": [
    {
     "data": {
      "text/plain": [
       "[<matplotlib.lines.Line2D at 0x151552a52f70>]"
      ]
     },
     "execution_count": 16,
     "metadata": {},
     "output_type": "execute_result"
    },
    {
     "data": {
      "image/png": "[encoded data removed]",
      "text/plain": [
       "<Figure size 432x288 with 1 Axes>"
      ]
     },
     "metadata": {
      "needs_background": "light"
     },
     "output_type": "display_data"
    }
   ],
   "source": [
    "scores = []\n",
    "for k in range(1,35,2):\n",
    "    preds = predict_all(tIb5, tL, teIb5, k)\n",
    "    scores.append(f1_score(teL, preds, average='micro'))\n",
    "\n",
    "plt.xlabel('K Values')\n",
    "plt.ylabel('F1 Score')\n",
    "plt.title('FMNIST')\n",
    "plt.plot(np.arange(1,35,2),scores, \"o-\")"
   ]
  },
  {
   "cell_type": "code",
   "execution_count": null,
   "id": "c172bb28-2dd4-4dd0-a75a-8bc417af3eec",
   "metadata": {},
   "outputs": [],
   "source": [
    "#Plotting figures \n",
    "plt.figure(figsize=(10,10))\n",
    "for i in range(20):\n",
    "    plt.subplot(5,5,i+1)\n",
    "    plt.xticks([])\n",
    "    plt.yticks([])\n",
    "    plt.grid(False)\n",
    "    plt.imshow(train_images[i].reshape(28, 28), cmap=plt.cm.binary)\n",
    "    plt.xlabel(train_labels[i])\n",
    "plt.show()"
   ]
  },
  {
   "cell_type": "code",
   "execution_count": 18,
   "id": "2b9fdcc2-5a38-429a-8446-903522c4b0ac",
   "metadata": {},
   "outputs": [
    {
     "data": {
      "text/plain": [
       "0.8554"
      ]
     },
     "execution_count": 18,
     "metadata": {},
     "output_type": "execute_result"
    }
   ],
   "source": [
    "#implementation of the scikit k-nearest neighbors\n",
    "from sklearn.neighbors import KNeighborsClassifier\n",
    "from sklearn.metrics import classification_report\n",
    "from sklearn.metrics import accuracy_score\n",
    "neigh = KNeighborsClassifier(n_neighbors=5)\n",
    "\n",
    "neigh.fit(train_images, train_labels)\n",
    "#params = neigh.get_params(deep=True)\n",
    "\n",
    "preds1 = neigh.predict(test_images)\n",
    "\n",
    "accuracy_score(test_labels, preds1)"
   ]
  },
  {
   "cell_type": "code",
   "execution_count": 19,
   "id": "fc40195c-1033-40b0-8f26-cecd75c5a13c",
   "metadata": {},
   "outputs": [
    {
     "data": {
      "text/plain": [
       "[<matplotlib.lines.Line2D at 0x151551d312e0>]"
      ]
     },
     "execution_count": 19,
     "metadata": {},
     "output_type": "execute_result"
    },
    {
     "data": {
      "image/png": "[encoded data removed]",
      "text/plain": [
       "<Figure size 432x288 with 1 Axes>"
      ]
     },
     "metadata": {
      "needs_background": "light"
     },
     "output_type": "display_data"
    }
   ],
   "source": [
    "scores = []\n",
    "for k in range(1,35,2):\n",
    "    neigh = KNeighborsClassifier(n_neighbors=k)\n",
    "    neigh.fit(tIb, train_labels)\n",
    "    preds = neigh.predict(teIb)\n",
    "    scores.append(accuracy_score(test_labels, preds))\n",
    "\n",
    "plt.xlabel('K Values')\n",
    "plt.ylabel('Accuracy')\n",
    "plt.title('FMNIST SciKit')\n",
    "plt.plot(np.arange(1,35,2),scores, \"o-\")"
   ]
  },
  {
   "cell_type": "code",
   "execution_count": 22,
   "id": "c75a8e2f-f14d-4b09-8c4d-cac2d89a81ce",
   "metadata": {},
   "outputs": [
    {
     "name": "stdout",
     "output_type": "stream",
     "text": [
      "Binary accuracy of models: [0.7823, 0.7919, 0.7983, 0.7952, 0.795, 0.7895, 0.792, 0.7901, 0.7858, 0.787, 0.7855, 0.7851, 0.7834, 0.7806, 0.7778, 0.7773, 0.7774, 0.8497, 0.8541, 0.8554, 0.854, 0.8519, 0.8495, 0.8468, 0.8462, 0.8441, 0.8427, 0.8407, 0.8394, 0.8375, 0.8382, 0.8373, 0.8348, 0.8335]\n",
      "Non-Binary accuracy of models: [0.8497, 0.8541, 0.8554, 0.854, 0.8519, 0.8495, 0.8468, 0.8462, 0.8441, 0.8427, 0.8407, 0.8394, 0.8375, 0.8382, 0.8373, 0.8348, 0.8335]\n"
     ]
    },
    {
     "data": {
      "image/png": "[encoded data removed]",
      "text/plain": [
       "<Figure size 432x288 with 1 Axes>"
      ]
     },
     "metadata": {
      "needs_background": "light"
     },
     "output_type": "display_data"
    }
   ],
   "source": [
    "scoresNonB = []\n",
    "for k in range(1,35,2):\n",
    "    neigh = KNeighborsClassifier(n_neighbors=k)\n",
    "    neigh.fit(train_images, train_labels)\n",
    "    preds = neigh.predict(test_images)\n",
    "    scoresNonB.append(accuracy_score(test_labels, preds))\n",
    "\n",
    "plt.xlabel('K Values')\n",
    "plt.ylabel('Accuracy')\n",
    "plt.title('FMNIST SciKit')\n",
    "plt.plot(np.arange(1,35,2),scoresNonB, \"o-\")\n",
    "print(\"Binary accuracy of models:\", scores)\n",
    "print(\"Non-Binary accuracy of models:\", scoresNonB)"
   ]
  },
  {
   "cell_type": "code",
   "execution_count": null,
   "id": "78754a40-8e11-4090-b674-99d518e74d02",
   "metadata": {},
   "outputs": [],
   "source": [
    "#comparing actual positives to false positives, with its accuracy score\n",
    "print(confusion_matrix(test_labels, preds1))\n",
    "print(accuracy_score(test_labels, preds1))"
   ]
  },
  {
   "cell_type": "code",
   "execution_count": null,
   "id": "cf6325b1-11b3-442c-933c-0a730b8c2a2c",
   "metadata": {},
   "outputs": [],
   "source": [
    "#break down of the accuracy of each label for knn \n",
    "print(classification_report(test_labels, preds1))"
   ]
  },
  {
   "cell_type": "code",
   "execution_count": null,
   "id": "8c96a613-14ea-464a-98b1-4dd9a95e0571",
   "metadata": {},
   "outputs": [],
   "source": [
    "#implementation of the logistic regression\n",
    "from sklearn.linear_model import LogisticRegression\n",
    "logReg = LogisticRegression(random_state=0)\n",
    "logReg.fit(train_images, train_labels)\n",
    "pr = logReg.predict(test_images)\n",
    "print(accuracy_score(test_labels, pr))\n",
    "#Actually pretty good accuracy, comparable to the knn model"
   ]
  },
  {
   "cell_type": "code",
   "execution_count": null,
   "id": "d5f19881-d955-462b-9fdf-c047d421a307",
   "metadata": {},
   "outputs": [],
   "source": [
    "#break down of the accuracy of each label for logReg\n",
    "print(classification_report(test_labels, pr))"
   ]
  },
  {
   "cell_type": "code",
   "execution_count": null,
   "id": "ee70af59-1d46-4a82-8ece-75cd48badebb",
   "metadata": {},
   "outputs": [],
   "source": []
  }
 ],
 "metadata": {
  "kernelspec": {
   "display_name": "Python 3.8",
   "language": "python",
   "name": "python3"
  },
  "language_info": {
   "codemirror_mode": {
    "name": "ipython",
    "version": 3
   },
   "file_extension": ".py",
   "mimetype": "text/x-python",
   "name": "python",
   "nbconvert_exporter": "python",
   "pygments_lexer": "ipython3",
   "version": "3.8.6"
  }
 },
 "nbformat": 4,
 "nbformat_minor": 5
}
