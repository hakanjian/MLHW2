{
 "cells": [
  {
   "cell_type": "code",
   "execution_count": 1,
   "id": "loose-singapore",
   "metadata": {
    "tags": []
   },
   "outputs": [],
   "source": [
    "import gzip\n",
    "import numpy as np\n",
    "import matplotlib.pyplot as plt\n",
    "\n",
    "\n",
    "def load_fashion_mnist():\n",
    "    \"\"\"\n",
    "    Loads Fashion MNIST dataset.\n",
    "    \n",
    "    Adapted from: https://github.com/zalandoresearch/fashion-mnist/blob/master/utils/mnist_reader.py\n",
    "    \"\"\"\n",
    "    TRAIN_IMAGES = 'train-images-idx3-ubyte.gz'\n",
    "    TRAIN_LABELS = 'train-labels-idx1-ubyte.gz'    \n",
    "    TEST_IMAGES = 't10k-images-idx3-ubyte.gz'\n",
    "    TEST_LABELS = 't10k-labels-idx1-ubyte.gz'\n",
    "\n",
    "    with gzip.open(TRAIN_LABELS, 'rb') as tr_labels_file, gzip.open(TEST_LABELS, 'rb') as ts_labels_file:\n",
    "        train_labels = np.frombuffer(tr_labels_file.read(), dtype=np.uint8, offset=8)\n",
    "        test_labels = np.frombuffer(ts_labels_file.read(), dtype=np.uint8, offset=8)\n",
    "\n",
    "    with gzip.open(TRAIN_IMAGES, 'rb') as tr_images_file, gzip.open(TEST_IMAGES, 'rb') as ts_images_file:\n",
    "        train_images = np.frombuffer(tr_images_file.read(), dtype=np.uint8, offset=16).reshape(len(train_labels), 784)\n",
    "        test_images = np.frombuffer(ts_images_file.read(), dtype=np.uint8, offset=16).reshape(len(test_labels), 784)\n",
    "\n",
    "    return train_images, train_labels, test_images, test_labels"
   ]
  },
  {
   "cell_type": "code",
   "execution_count": 2,
   "id": "civilian-shift",
   "metadata": {
    "tags": []
   },
   "outputs": [],
   "source": [
    "def pretty_print(image_example):\n",
    "    \"\"\" Pretty prints a Fashion MNIST example.\n",
    "\n",
    "    Parameters:\n",
    "        image_example: a 1x784 numpy array corresponding to the features of\n",
    "                       a single image.\n",
    "\n",
    "    Returns:\n",
    "        None.\n",
    "    \"\"\"\n",
    "    print(np.array_str(image_example, precision=1, max_line_width=116))\n"
   ]
  },
  {
   "cell_type": "code",
   "execution_count": 3,
   "id": "valuable-university",
   "metadata": {
    "tags": []
   },
   "outputs": [],
   "source": [
    "def usage_example():\n",
    "    \"\"\" Example of how to load and parse Fashion MNIST data. \"\"\"\n",
    "    \n",
    "    train_images, train_labels, test_images, test_labels = load_fashion_mnist()\n",
    "\n",
    "    # train_images is a 60,000 x 784 numpy matrix. There are 60k\n",
    "    # rows in the matrix, each row corresponding to a single example.\n",
    "    # There are 784 columns, each corresponding to the value of a\n",
    "    # single pixel in the 28x28 image after it has been \"flattened\".\n",
    "    print(\"Dimensions of training set feature matrix:\", train_images.shape)\n",
    "\n",
    "    # The labels for each example are maintained separately in train_labels.\n",
    "    # This is a 60,000 x 1 numpy matrix, where each element is the label\n",
    "    # for the corresponding training example.\n",
    "    print(\"Dimensions of training set label matrix:\", train_labels.shape)\n",
    "\n",
    "    # Example of how to access a individual training example (in this case,\n",
    "    # we pick an example at a random index). We could use print to output the\n",
    "    # raw pixel values to the screen, but pretty_print formats the data in \n",
    "    # a nicer way: if you squint, you may be able to make out the contours of\n",
    "    # the fashion article in the matrix data.\n",
    "    EXAMPLE_INDEX = np.random.randint(60000)\n",
    "    print(\"Features of training example at index {}:\\n\".format(EXAMPLE_INDEX))\n",
    "    pretty_print(train_images[EXAMPLE_INDEX])\n",
    "\n",
    "    # And here's the label that goes with that training example\n",
    "    print(\"\\nLabel of training example at index {}:\".format(EXAMPLE_INDEX), train_labels[EXAMPLE_INDEX], '\\n')\n",
    "\n",
    "    # Finally, let's visualize the example we've picked as a 28x28 image\n",
    "    plt.figure()\n",
    "    plt.imshow(train_images[EXAMPLE_INDEX].reshape(28, 28))\n",
    "    plt.show()\n",
    "    \n",
    "    # The test_images/test_labels are organized in the same way, but only contain 10k\n",
    "    # examples. Don't touch this data until your model is frozen! Perform all\n",
    "    # cross-validation, model selection, hyperparameter tuning etc. on the 60k\n",
    "    # training set. Use the test set simply for reporting performance.\n"
   ]
  },
  {
   "cell_type": "code",
   "execution_count": 4,
   "id": "international-lemon",
   "metadata": {
    "tags": []
   },
   "outputs": [
    {
     "name": "stdout",
     "output_type": "stream",
     "text": [
      "Dimensions of training set feature matrix: (60000, 784)\n",
      "Dimensions of training set label matrix: (60000,)\n",
      "Features of training example at index 9394:\n",
      "\n",
      "[  0   0   1   0   0   0   0   0   0  48 181 162 132 114 121 169 209 186 105  21   0   0   0   0   0   0   0   0\n",
      "   0   0   0   0   0   0  11  97 139 178 204 206 214 185 198 229 207 178 170 180 151  32   0   0   0   0   0   0\n",
      "   0   0   0   0   0 139 155 160 158 136 121 132 160 172 163 137 113 122 134 136 157 158  48   0   4   0   0   0\n",
      "   0   0   5   0  68 159 142 144 143 145 140 138 126 127 127 135 136 136 149 156 140 144 133   0   1   0   0   0\n",
      "   0   0   0   0 134 147 136 141 139 144 139 140 143 140 142 137 143 117 123 124 132 133 163   4   0   2   0   0\n",
      "   0   0   0   0 147 150 152 134 137 142 143 140 137 137 139 122 217 238 191 162 126 132 173  38   0   4   0   0\n",
      "   0   0   0  33 139 150 160 124 137 139 139 139 133 139 137 124 209 210 216 254 163 120 165  75   0   4   0   0\n",
      "   0   0   0  57 141 147 173 126 139 138 138 140 135 137 141 121 216 197 166 211 160 122 153 113   0   0   0   0\n",
      "   0   0   0  73 141 140 170 127 135 139 142 137 137 142 135 124 235 226 218 219 141 131 147 139   0   0   0   0\n",
      "   0   0   0  90 140 147 182 126 137 135 136 136 137 134 139 126 206 220 225 244 133 135 136 152   0   0   0   0\n",
      "   0   0   0 113 137 149 187 119 136 136 137 138 134 138 141 131 111 166 189 144 128 153 123 164  24   0   0   0\n",
      "   0   0   0 127 134 149 192 119 138 139 139 139 135 136 135 136 130 122 120 111 138 155 123 144  46   0   0   0\n",
      "   0   0   0 142 131 141 188 122 142 137 137 139 141 140 137 136 134 134 137 129 139 149 121 144  69   0   0   0\n",
      "   0   0   0 152 126 139 178 117 142 139 139 138 137 138 138 139 133 128 133 126 137 149 127 144  92   0   0   0\n",
      "   0   0   0 154 125 151 187 118 138 133 136 136 138 138 140 141 134 126 133 127 138 149 135 141 120   0   0   0\n",
      "   0   0   0 153 125 153 191 122 143 138 139 142 141 139 140 142 135 124 135 126 137 145 131 138 141   0   0   0\n",
      "   0   0  10 160 122 145 188 126 139 139 137 140 137 138 137 139 137 129 129 133 135 152 133 137 153   0   0   0\n",
      "   0   0  23 162 123 142 186 131 135 138 136 136 139 139 135 137 137 133 125 137 136 150 138 140 160  11   0   0\n",
      "   0   0  41 166 124 146 191 137 136 142 140 139 136 140 135 137 141 130 128 131 133 154 141 131 164  32   0   0\n",
      "   0   0  51 167 122 148 191 129 130 138 141 144 141 140 136 139 145 134 125 131 128 157 145 131 167  47   0   0\n",
      "   0   0  70 159 122 153 182 126 142 137 135 136 138 139 137 136 139 139 128 127 122 153 148 127 161  70   0   0\n",
      "   0   0  76 159 121 170 181 127 142 140 138 141 142 140 139 135 138 139 131 132 124 160 150 130 154  90   0   0\n",
      "   0   0  72 135 100 167 173 123 143 142 140 140 138 137 142 134 140 140 135 135 123 160 130 116 128  84   0   0\n",
      "   0   0 145 165 148 184 172 125 142 142 142 143 146 143 145 138 138 140 140 134 115 173 181 171 177 150   0   0\n",
      "   0   0 188 251 238 249 151  98 116 116 120 120 120 119 121 117 112 110 108 113  81 204 255 240 243 187   0   0\n",
      "   0   0  48 129 150 186 194 176 190 195 197 202 196 196 201 200 200 206 193 190 191 167 131 109 100  37   0   0\n",
      "   0   0   0   0   0   0 237 240 239 240 240 242 241 239 241 239 237 238 237 233 249  71   0   0   0   0   0   0\n",
      "   0   0   1   5   0   0  99 125 125 131 129 129 133 134 135 138 141 145 135 121 122   3   0   9   4   0   0   0]\n",
      "\n",
      "Label of training example at index 9394: 2 \n",
      "\n"
     ]
    },
    {
     "data": {
      "image/png": "[encoded data removed]",
      "text/plain": [
       "<Figure size 432x288 with 1 Axes>"
      ]
     },
     "metadata": {
      "needs_background": "light"
     },
     "output_type": "display_data"
    }
   ],
   "source": [
    "usage_example()"
   ]
  },
  {
   "cell_type": "code",
   "execution_count": 5,
   "id": "86c06bfd-2b65-4308-8536-78f85c534c02",
   "metadata": {},
   "outputs": [],
   "source": [
    "import sklearn\n",
    "train_images, train_labels, test_images, test_labels = load_fashion_mnist()"
   ]
  },
  {
   "cell_type": "code",
   "execution_count": 6,
   "id": "9275c0bb-90e0-4863-a352-af06d65f2441",
   "metadata": {},
   "outputs": [
    {
     "data": {
      "text/plain": [
       "array([9, 0, 0, ..., 3, 0, 5], dtype=uint8)"
      ]
     },
     "execution_count": 6,
     "metadata": {},
     "output_type": "execute_result"
    }
   ],
   "source": [
    "train_labels"
   ]
  },
  {
   "cell_type": "code",
   "execution_count": 7,
   "id": "7fed345f-d1da-4c5a-8fb8-bf91cac58d09",
   "metadata": {},
   "outputs": [
    {
     "data": {
      "text/plain": [
       "(array([6000, 6000, 6000, 6000, 6000, 6000, 6000, 6000, 6000, 6000]),\n",
       " array([ 0,  1,  2,  3,  4,  5,  6,  7,  8,  9, 10]))"
      ]
     },
     "execution_count": 7,
     "metadata": {},
     "output_type": "execute_result"
    }
   ],
   "source": [
    "#These are completely balanced\n",
    "r = [0,1,2,3,4,5,6,7,8,9,10]\n",
    "np.histogram(train_labels, bins=r)"
   ]
  },
  {
   "cell_type": "code",
   "execution_count": 8,
   "id": "1166b467-4342-47e7-a470-329c35637472",
   "metadata": {
    "tags": []
   },
   "outputs": [],
   "source": [
    "from numpy import linalg as LA\n",
    "from scipy import stats\n",
    "def compute_distances(train_X, test_example):\n",
    "    \"\"\"\n",
    "    Returns a vector of the distances between the given test_example\n",
    "    and every training example in the matrix train_X.\n",
    "    \n",
    "    Parameters:\n",
    "        train_X - an nx3 matrix, containing n training examples\n",
    "        test_examples - a 1x3 vector containing a test example to classify\n",
    "        \n",
    "    Returns:\n",
    "        An nx1 matrix containing the distances from test_example to all the\n",
    "        examples in train_X.\n",
    "    \"\"\"\n",
    "    \n",
    "    return LA.norm(train_X - test_example, ord=1, axis=1)\n",
    "\n",
    "def predict_one(distances, y_train, k):\n",
    "    \"\"\"\n",
    "    Given a vector of distances between a test example and all the training examples,\n",
    "    makes a prediction using a majority vote of k nearest neighbors.\n",
    "    \n",
    "    Parameters:\n",
    "        distances - an nx1 matrix containing the distances from a test example to\n",
    "                    all training examples.\n",
    "        train_y - an nx1 matrix containing the true labels\n",
    "        k - the number of neighbors participating in the prediction\n",
    "        \n",
    "    Returns:\n",
    "        A classification for the test example in question (i.e., either a 0 or a 1).\n",
    "    \"\"\"\n",
    "    result = np.argpartition(distances,k)[:k]\n",
    "    classification = y_train[result]\n",
    "    return stats.mode(classification, axis=None)[0][0]\n",
    "\n",
    "def predict_all(X_train, y_train, X_test, k):\n",
    "    \"\"\"\n",
    "    Makes a k-NN prediction for every example in X_test, using (X_train, y_train).\n",
    "    \n",
    "    Parameters:\n",
    "        X_train - matrix of training data\n",
    "        y_train - vector of training labels\n",
    "        X_test - matrix of test data to be classified\n",
    "        k - the number of nearest neighbors participating in the classification.\n",
    "        \n",
    "    Returns:\n",
    "        An nx1 matrix of predictions for every test case.\n",
    "    \"\"\"\n",
    "    y_preds = []\n",
    "    for ex in X_test:\n",
    "        distances = compute_distances(X_train, ex)\n",
    "        p = predict_one(distances, y_train, k)\n",
    "        y_preds.append(p)\n",
    "    return y_preds"
   ]
  },
  {
   "cell_type": "code",
   "execution_count": null,
   "id": "14860462-e4a0-4519-bd66-f113919b4b33",
   "metadata": {},
   "outputs": [],
   "source": [
    "tI = train_images[:1000]\n",
    "tL = train_labels[:1000]\n",
    "teI = test_images[:1000]\n",
    "teL = test_labels[:1000]\n",
    "from sklearn.metrics import confusion_matrix, f1_score"
   ]
  },
  {
   "cell_type": "code",
   "execution_count": 15,
   "id": "c7dd579c-df4c-4152-b602-aab1041acdd2",
   "metadata": {},
   "outputs": [],
   "source": [
    "scaled_tI = train_images/255.0\n",
    "scaled_teI = test_images/255.0"
   ]
  },
  {
   "cell_type": "code",
   "execution_count": 10,
   "id": "5a7bf02a-7078-4031-8a11-5987bff907f7",
   "metadata": {},
   "outputs": [
    {
     "data": {
      "text/plain": [
       "0.106"
      ]
     },
     "execution_count": 11,
     "metadata": {},
     "output_type": "execute_result"
    }
   ],
   "source": [
    "import numpy as np\n",
    "from sklearn.dummy import DummyClassifier\n",
    "dummy_clf = DummyClassifier(strategy=\"most_frequent\")\n",
    "dummy_clf.fit(train_images, train_labels)\n",
    "preds_dummy = dummy_clf.predict(test_images)\n",
    "dummy_clf.score(test_images, test_labels)"
   ]
  },
  {
   "cell_type": "code",
   "execution_count": null,
   "id": "bbd84512-bd2d-4921-a5d9-a0dee122e1c6",
   "metadata": {},
   "outputs": [],
   "source": [
    "def convert_to_binary(image):\n",
    "    binary = np.zeros(image.shape)\n",
    "    for i in range(0,image.shape[0]):\n",
    "        if image[i] > 128 :\n",
    "            binary[i] = 1\n",
    "    return binary\n",
    "\n",
    "def all_to_binary(images):\n",
    "    binary = []\n",
    "    for image in images:\n",
    "        binary.append(convert_to_binary(image))\n",
    "    return np.array(binary)"
   ]
  },
  {
   "cell_type": "code",
   "execution_count": null,
   "id": "8a3ec0ed-209c-4407-bef1-2762825d347c",
   "metadata": {},
   "outputs": [],
   "source": [
    "#binary training\n",
    "tIb = all_to_binary(train_images)\n",
    "teIb = all_to_binary(test_images)\n",
    "tIb5 = tIb[:1000]\n",
    "teIb5 = teIb[:1000]"
   ]
  },
  {
   "cell_type": "code",
   "execution_count": null,
   "id": "74bae169-f34d-4eb0-955c-22a073240ddc",
   "metadata": {
    "tags": []
   },
   "outputs": [],
   "source": [
    "#Non binary with our KNN Implementation\n",
    "preds = predict_all(tI, tL, teI, 5)\n",
    "print(\"Non-Binary Values\")\n",
    "print(confusion_matrix(teL, preds))\n",
    "print(f1_score(teL, preds, average='micro'))"
   ]
  },
  {
   "cell_type": "code",
   "execution_count": null,
   "id": "9c2ed599-f59d-4377-ae57-aa90e32ee62b",
   "metadata": {},
   "outputs": [],
   "source": [
    "#Binary values with our KNN Implementation\n",
    "predsb = predict_all(tIb5, tL, teIb5, 5)\n",
    "print(\"Binary Values\")\n",
    "print(confusion_matrix(teL, predsb))\n",
    "print(f1_score(teL, predsb, average='micro'))"
   ]
  },
  {
   "cell_type": "code",
   "execution_count": null,
   "id": "08b7357f-b2ed-4e97-9415-ffc4505223db",
   "metadata": {},
   "outputs": [],
   "source": [
    "from sklearn.metrics import classification_report\n",
    "print(classification_report(teL, predsb))"
   ]
  },
  {
   "cell_type": "markdown",
   "id": "5b7ed96f-ada9-43f6-bf37-4663792ee476",
   "metadata": {},
   "source": [
    "Change around the k value"
   ]
  },
  {
   "cell_type": "code",
   "execution_count": null,
   "id": "e56ef40c-9432-4ff2-a366-9e9bccea9ca9",
   "metadata": {},
   "outputs": [],
   "source": [
    "scores = []\n",
    "for k in range(1,35,2):\n",
    "    preds = predict_all(tIb5, tL, teIb5, k)\n",
    "    scores.append(f1_score(teL, preds, average='micro'))\n",
    "\n",
    "plt.xlabel('K Values')\n",
    "plt.ylabel('F1 Score')\n",
    "plt.title('FMNIST Binary')\n",
    "plt.plot(np.arange(1,35,2),scores, \"o-\")"
   ]
  },
  {
   "cell_type": "code",
   "execution_count": null,
   "id": "bd49b9e8-2008-4288-b19f-88edc8edfe63",
   "metadata": {},
   "outputs": [],
   "source": [
    "scores = []\n",
    "for k in range(1,35,2):\n",
    "    preds = predict_all(tI, tL, teI, k)\n",
    "    scores.append(f1_score(teL, preds, average='micro'))\n",
    "\n",
    "plt.xlabel('K Values')\n",
    "plt.ylabel('F1 Score')\n",
    "plt.title('FMNIST Normal')\n",
    "plt.plot(np.arange(1,35,2),scores, \"o-\")"
   ]
  },
  {
   "cell_type": "code",
   "execution_count": 18,
   "id": "c172bb28-2dd4-4dd0-a75a-8bc417af3eec",
   "metadata": {},
   "outputs": [
    {
     "data": {
      "image/png": "[encoded data removed]",
      "text/plain": [
       "<Figure size 720x720 with 20 Axes>"
      ]
     },
     "metadata": {},
     "output_type": "display_data"
    }
   ],
   "source": [
    "#Plotting figures \n",
    "plt.figure(figsize=(10,10))\n",
    "for i in range(20):\n",
    "    plt.subplot(5,5,i+1)\n",
    "    plt.xticks([])\n",
    "    plt.yticks([])\n",
    "    plt.grid(False)\n",
    "    plt.imshow(train_images[i].reshape(28, 28), cmap=plt.cm.binary)\n",
    "    plt.xlabel(train_labels[i])\n",
    "plt.show()"
   ]
  },
  {
   "cell_type": "code",
   "execution_count": 16,
   "id": "2b9fdcc2-5a38-429a-8446-903522c4b0ac",
   "metadata": {},
   "outputs": [
    {
     "data": {
      "text/plain": [
       "0.8554"
      ]
     },
     "execution_count": 16,
     "metadata": {},
     "output_type": "execute_result"
    }
   ],
   "source": [
    "#implementation of the scikit k-nearest neighbors\n",
    "from sklearn.neighbors import KNeighborsClassifier\n",
    "from sklearn.metrics import classification_report\n",
    "from sklearn.metrics import accuracy_score\n",
    "neigh = KNeighborsClassifier(n_neighbors=5)\n",
    "\n",
    "neigh.fit(scaled_tI, train_labels)\n",
    "#params = neigh.get_params(deep=True)\n",
    "\n",
    "preds1 = neigh.predict(scaled_teI)\n",
    "\n",
    "accuracy_score(test_labels, preds1)"
   ]
  },
  {
   "cell_type": "code",
   "execution_count": null,
   "id": "fc40195c-1033-40b0-8f26-cecd75c5a13c",
   "metadata": {},
   "outputs": [],
   "source": [
    "scores = []\n",
    "for k in range(1,35,2):\n",
    "    neigh = KNeighborsClassifier(n_neighbors=k)\n",
    "    neigh.fit(tIb, train_labels)\n",
    "    preds = neigh.predict(teIb)\n",
    "    scores.append(accuracy_score(test_labels, preds))\n",
    "\n",
    "plt.xlabel('K Values')\n",
    "plt.ylabel('Accuracy')\n",
    "plt.title('FMNIST SciKit')\n",
    "plt.plot(np.arange(1,35,2),scores, \"o-\")\n",
    "print(\"Binary accuracy of models:\", scores)"
   ]
  },
  {
   "cell_type": "code",
   "execution_count": null,
   "id": "c75a8e2f-f14d-4b09-8c4d-cac2d89a81ce",
   "metadata": {},
   "outputs": [],
   "source": [
    "scoresNonB = []\n",
    "for k in range(1,35,2):\n",
    "    neigh = KNeighborsClassifier(n_neighbors=k)\n",
    "    neigh.fit(train_images, train_labels)\n",
    "    preds = neigh.predict(test_images)\n",
    "    scoresNonB.append(accuracy_score(test_labels, preds))\n",
    "\n",
    "plt.xlabel('K Values')\n",
    "plt.ylabel('Accuracy')\n",
    "plt.title('FMNIST SciKit')\n",
    "plt.plot(np.arange(1,35,2),scoresNonB, \"o-\")\n",
    "print(\"Non-Binary accuracy of models:\", scoresNonB)"
   ]
  },
  {
   "cell_type": "code",
   "execution_count": null,
   "id": "78754a40-8e11-4090-b674-99d518e74d02",
   "metadata": {},
   "outputs": [],
   "source": [
    "#comparing actual positives to false positives, with its accuracy score\n",
    "print(confusion_matrix(test_labels, preds1))\n",
    "print(accuracy_score(test_labels, preds1))"
   ]
  },
  {
   "cell_type": "code",
   "execution_count": null,
   "id": "cf6325b1-11b3-442c-933c-0a730b8c2a2c",
   "metadata": {},
   "outputs": [],
   "source": [
    "#break down of the accuracy of each label for knn \n",
    "print(classification_report(test_labels, preds1))"
   ]
  },
  {
   "cell_type": "code",
   "execution_count": 17,
   "id": "8c96a613-14ea-464a-98b1-4dd9a95e0571",
   "metadata": {},
   "outputs": [
    {
     "name": "stdout",
     "output_type": "stream",
     "text": [
      "0.8439\n"
     ]
    },
    {
     "name": "stderr",
     "output_type": "stream",
     "text": [
      "/opt/pub/eb/apps/all/DavidsonJupyter/2021-common-GCCcore-10.2.0/lib/python3.8/site-packages/sklearn/linear_model/_logistic.py:444: ConvergenceWarning: lbfgs failed to converge (status=1):\n",
      "STOP: TOTAL NO. of ITERATIONS REACHED LIMIT.\n",
      "\n",
      "Increase the number of iterations (max_iter) or scale the data as shown in:\n",
      "    https://scikit-learn.org/stable/modules/preprocessing.html\n",
      "Please also refer to the documentation for alternative solver options:\n",
      "    https://scikit-learn.org/stable/modules/linear_model.html#logistic-regression\n",
      "  n_iter_i = _check_optimize_result(\n"
     ]
    }
   ],
   "source": [
    "#implementation of the logistic regression\n",
    "from sklearn.linear_model import LogisticRegression\n",
    "logReg = LogisticRegression(random_state=0)\n",
    "logReg.fit(scaled_tI, train_labels)\n",
    "pr = logReg.predict(scaled_teI)\n",
    "print(accuracy_score(test_labels, pr))\n",
    "#Actually pretty good accuracy, comparable to the knn model"
   ]
  },
  {
   "cell_type": "code",
   "execution_count": null,
   "id": "7f83a777-221e-4617-ac92-f399cda187fa",
   "metadata": {},
   "outputs": [],
   "source": [
    "logReg = LogisticRegression(random_state=0)\n",
    "logReg.fit(tIb, train_labels)\n",
    "pr = logReg.predict(teIb)\n",
    "print(accuracy_score(test_labels, pr))"
   ]
  },
  {
   "cell_type": "code",
   "execution_count": null,
   "id": "d5f19881-d955-462b-9fdf-c047d421a307",
   "metadata": {},
   "outputs": [],
   "source": [
    "#break down of the accuracy of each label for logReg\n",
    "print(classification_report(test_labels, pr))"
   ]
  },
  {
   "cell_type": "code",
   "execution_count": null,
   "id": "f1fa7c80-7428-4837-bf4b-c1a0cbf40932",
   "metadata": {},
   "outputs": [],
   "source": [
    "print(confusion_matrix(test_labels, pr))"
   ]
  },
  {
   "cell_type": "code",
   "execution_count": null,
   "id": "be4eb06f-92d8-449f-bbab-b1f083d1e259",
   "metadata": {},
   "outputs": [],
   "source": []
  }
 ],
 "metadata": {
  "kernelspec": {
   "display_name": "Python 3.8",
   "language": "python",
   "name": "python3"
  },
  "language_info": {
   "codemirror_mode": {
    "name": "ipython",
    "version": 3
   },
   "file_extension": ".py",
   "mimetype": "text/x-python",
   "name": "python",
   "nbconvert_exporter": "python",
   "pygments_lexer": "ipython3",
   "version": "3.8.6"
  }
 },
 "nbformat": 4,
 "nbformat_minor": 5
}
