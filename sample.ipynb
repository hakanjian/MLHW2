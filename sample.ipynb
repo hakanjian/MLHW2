{
 "cells": [
  {
   "cell_type": "code",
   "execution_count": 1,
   "id": "loose-singapore",
   "metadata": {
    "tags": []
   },
   "outputs": [],
   "source": [
    "import gzip\n",
    "import numpy as np\n",
    "import matplotlib.pyplot as plt\n",
    "\n",
    "\n",
    "def load_fashion_mnist():\n",
    "    \"\"\"\n",
    "    Loads Fashion MNIST dataset.\n",
    "    \n",
    "    Adapted from: https://github.com/zalandoresearch/fashion-mnist/blob/master/utils/mnist_reader.py\n",
    "    \"\"\"\n",
    "    TRAIN_IMAGES = 'train-images-idx3-ubyte.gz'\n",
    "    TRAIN_LABELS = 'train-labels-idx1-ubyte.gz'    \n",
    "    TEST_IMAGES = 't10k-images-idx3-ubyte.gz'\n",
    "    TEST_LABELS = 't10k-labels-idx1-ubyte.gz'\n",
    "\n",
    "    with gzip.open(TRAIN_LABELS, 'rb') as tr_labels_file, gzip.open(TEST_LABELS, 'rb') as ts_labels_file:\n",
    "        train_labels = np.frombuffer(tr_labels_file.read(), dtype=np.uint8, offset=8)\n",
    "        test_labels = np.frombuffer(ts_labels_file.read(), dtype=np.uint8, offset=8)\n",
    "\n",
    "    with gzip.open(TRAIN_IMAGES, 'rb') as tr_images_file, gzip.open(TEST_IMAGES, 'rb') as ts_images_file:\n",
    "        train_images = np.frombuffer(tr_images_file.read(), dtype=np.uint8, offset=16).reshape(len(train_labels), 784)\n",
    "        test_images = np.frombuffer(ts_images_file.read(), dtype=np.uint8, offset=16).reshape(len(test_labels), 784)\n",
    "\n",
    "    return train_images, train_labels, test_images, test_labels"
   ]
  },
  {
   "cell_type": "code",
   "execution_count": 2,
   "id": "civilian-shift",
   "metadata": {
    "tags": []
   },
   "outputs": [],
   "source": [
    "def pretty_print(image_example):\n",
    "    \"\"\" Pretty prints a Fashion MNIST example.\n",
    "\n",
    "    Parameters:\n",
    "        image_example: a 1x784 numpy array corresponding to the features of\n",
    "                       a single image.\n",
    "\n",
    "    Returns:\n",
    "        None.\n",
    "    \"\"\"\n",
    "    print(np.array_str(image_example, precision=1, max_line_width=116))\n"
   ]
  },
  {
   "cell_type": "code",
   "execution_count": 3,
   "id": "valuable-university",
   "metadata": {
    "tags": []
   },
   "outputs": [],
   "source": [
    "def usage_example():\n",
    "    \"\"\" Example of how to load and parse Fashion MNIST data. \"\"\"\n",
    "    \n",
    "    train_images, train_labels, test_images, test_labels = load_fashion_mnist()\n",
    "\n",
    "    # train_images is a 60,000 x 784 numpy matrix. There are 60k\n",
    "    # rows in the matrix, each row corresponding to a single example.\n",
    "    # There are 784 columns, each corresponding to the value of a\n",
    "    # single pixel in the 28x28 image after it has been \"flattened\".\n",
    "    print(\"Dimensions of training set feature matrix:\", train_images.shape)\n",
    "\n",
    "    # The labels for each example are maintained separately in train_labels.\n",
    "    # This is a 60,000 x 1 numpy matrix, where each element is the label\n",
    "    # for the corresponding training example.\n",
    "    print(\"Dimensions of training set label matrix:\", train_labels.shape)\n",
    "\n",
    "    # Example of how to access a individual training example (in this case,\n",
    "    # we pick an example at a random index). We could use print to output the\n",
    "    # raw pixel values to the screen, but pretty_print formats the data in \n",
    "    # a nicer way: if you squint, you may be able to make out the contours of\n",
    "    # the fashion article in the matrix data.\n",
    "    EXAMPLE_INDEX = np.random.randint(60000)\n",
    "    print(\"Features of training example at index {}:\\n\".format(EXAMPLE_INDEX))\n",
    "    pretty_print(train_images[EXAMPLE_INDEX])\n",
    "\n",
    "    # And here's the label that goes with that training example\n",
    "    print(\"\\nLabel of training example at index {}:\".format(EXAMPLE_INDEX), train_labels[EXAMPLE_INDEX], '\\n')\n",
    "\n",
    "    # Finally, let's visualize the example we've picked as a 28x28 image\n",
    "    plt.figure()\n",
    "    plt.imshow(train_images[EXAMPLE_INDEX].reshape(28, 28))\n",
    "    plt.show()\n",
    "    \n",
    "    # The test_images/test_labels are organized in the same way, but only contain 10k\n",
    "    # examples. Don't touch this data until your model is frozen! Perform all\n",
    "    # cross-validation, model selection, hyperparameter tuning etc. on the 60k\n",
    "    # training set. Use the test set simply for reporting performance.\n"
   ]
  },
  {
   "cell_type": "code",
   "execution_count": 4,
   "id": "international-lemon",
   "metadata": {
    "tags": []
   },
   "outputs": [
    {
     "name": "stdout",
     "output_type": "stream",
     "text": [
      "Dimensions of training set feature matrix: (60000, 784)\n",
      "Dimensions of training set label matrix: (60000,)\n",
      "Features of training example at index 28724:\n",
      "\n",
      "[  0   0   0   0   0   0   0   0   0   0  81  92  24  13  24  88  76  83  76   0   0   0   0   0   0   0   0   0\n",
      "   0   0   0   0   0   0   0   0   0  76  99  78  92  90  83 106  92  90  97  58   0   0   0   0   0   0   0   0\n",
      "   0   0   0   0   0   0   0   0   0  94  83  69  81  74  65  67  65  78  78  90   0   0   0   0   0   0   0   0\n",
      "   0   0   0   0   0   0   0   0   0 101  83  81  72  78  85  78  90  78  78 101   0   0   0   0   0   0   0   0\n",
      "   0   0   0   0   0   0   0   0  20  97  92  85  76  65  69  65  60  88  99  90   6   0   0   0   0   0   0   0\n",
      "   0   0   0   0   0   0   0   0  36  97 106  83  78  90  78  78  94  90 101  83  33   0   0   0   0   0   0   0\n",
      "   0   0   0   0   0   0   0   0  49  97  67  83  90  76  74  85 103  60  65  94  38   0   0   0   0   0   0   0\n",
      "   0   0   0   0   0   0   0   0  63 101  38  83  94  76  76  90  97  56  33 103  40   0   0   0   0   0   0   0\n",
      "   0   0   0   0   0   0   0   0  60 106  31  90  90  88  85  85  99  88  20 108  65   0   0   0   0   0   0   0\n",
      "   0   0   0   0   0   0   0   0  83 101  36  88  67  74  63  76  92  85   9 106  78   0   0   0   0   0   0   0\n",
      "   0   0   0   0   0   0   0   0  76  83  27 103 115 139 110 130 110  72   4  85  74   0   0   0   0   0   0   0\n",
      "   0   0   0   0   0   0   0   0   0   0  45 126  97 112  83  97  76 103  15   0   0   0   0   0   0   0   0   0\n",
      "   0   0   0   0   0   0   0   0   0   0  67 117 101 130  72 106  94 115  60   0   0   0   0   0   0   0   0   0\n",
      "   0   0   0   0   0   0   0   0   0   0  83 121 103 142  69 117 106 106  88   0   0   0   0   0   0   0   0   0\n",
      "   0   0   0   0   0   0   0   0   0   0 103 133 106 160  67 119 117 108 108   0   0   0   0   0   0   0   0   0\n",
      "   0   0   0   0   0   0   0   0   0   6 106 137 112 182  54 128 124 112 124   0   0   0   0   0   0   0   0   0\n",
      "   0   0   0   0   0   0   0   0   0  22 119 139 119 203  40 135 130 115 117   0   0   0   0   0   0   0   0   0\n",
      "   0   0   0   0   0   0   0   0   0  31 128 146 128 221  31 139 142 117 133   0   0   0   0   0   0   0   0   0\n",
      "   0   0   0   0   0   0   0   0   0  56 128 144 135 243  20 135 151 126 144   0   0   0   0   0   0   0   0   0\n",
      "   0   0   0   0   0   0   0   0   0  74 133 137 133 255  22 133 155 128 151   6   0   0   0   0   0   0   0   0\n",
      "   0   0   0   0   0   0   0   0   0  88 137 130 133 252  27 135 160 126 160  27   0   0   0   0   0   0   0   0\n",
      "   0   0   0   0   0   0   0   0   0  99 146 126 133 250  24 130 180 108 160  49   0   0   0   0   0   0   0   0\n",
      "   0   0   0   0   0   0   0   0   0 106 151 117 112 243  33 137 187  97 155  63   0   0   0   0   0   0   0   0\n",
      "   0   0   0   0   0   0   0   0   0 126 153 124 117 243  42 142 196  92 160  81   0   0   0   0   0   0   0   0\n",
      "   0   0   0   0   0   0   0   0   0 124 153 133 144 214  49 148 196  94 171  92   0   0   0   0   0   0   0   0\n",
      "   0   0   0   0   0   0   0   0   0 137 157 130 142 207  60 153 187 101 169 103   0   0   0   0   0   0   0   0\n",
      "   0   0   0   0   0   0   0   0   0 153 187 133 160 236  67 155 223 110 200 135   0   0   0   0   0   0   0   0\n",
      "   0   0   0   0   0   0   0   0   0  31  90  56 124 153  90 135 160  51 110  94   0   0   0   0   0   0   0   0]\n",
      "\n",
      "Label of training example at index 28724: 3 \n",
      "\n"
     ]
    },
    {
     "data": {
      "image/png": "[encoded data removed]",
      "text/plain": [
       "<Figure size 432x288 with 1 Axes>"
      ]
     },
     "metadata": {
      "needs_background": "light"
     },
     "output_type": "display_data"
    }
   ],
   "source": [
    "usage_example()"
   ]
  },
  {
   "cell_type": "code",
   "execution_count": 5,
   "id": "86c06bfd-2b65-4308-8536-78f85c534c02",
   "metadata": {},
   "outputs": [],
   "source": [
    "import sklearn\n",
    "train_images, train_labels, test_images, test_labels = load_fashion_mnist()"
   ]
  },
  {
   "cell_type": "code",
   "execution_count": 6,
   "id": "9275c0bb-90e0-4863-a352-af06d65f2441",
   "metadata": {},
   "outputs": [
    {
     "data": {
      "text/plain": [
       "array([9, 0, 0, ..., 3, 0, 5], dtype=uint8)"
      ]
     },
     "execution_count": 6,
     "metadata": {},
     "output_type": "execute_result"
    }
   ],
   "source": [
    "train_labels"
   ]
  },
  {
   "cell_type": "code",
   "execution_count": 7,
   "id": "7fed345f-d1da-4c5a-8fb8-bf91cac58d09",
   "metadata": {},
   "outputs": [
    {
     "data": {
      "text/plain": [
       "(array([6000, 6000, 6000, 6000, 6000, 6000, 6000, 6000, 6000, 6000]),\n",
       " array([ 0,  1,  2,  3,  4,  5,  6,  7,  8,  9, 10]))"
      ]
     },
     "execution_count": 7,
     "metadata": {},
     "output_type": "execute_result"
    }
   ],
   "source": [
    "#These are completely balanced\n",
    "r = [0,1,2,3,4,5,6,7,8,9,10]\n",
    "np.histogram(train_labels, bins=r)"
   ]
  },
  {
   "cell_type": "code",
   "execution_count": 8,
   "id": "1166b467-4342-47e7-a470-329c35637472",
   "metadata": {
    "tags": []
   },
   "outputs": [],
   "source": [
    "from numpy import linalg as LA\n",
    "from scipy import stats\n",
    "def compute_distances(train_X, test_example):\n",
    "    \"\"\"\n",
    "    Returns a vector of the distances between the given test_example\n",
    "    and every training example in the matrix train_X.\n",
    "    \n",
    "    Parameters:\n",
    "        train_X - an nx3 matrix, containing n training examples\n",
    "        test_examples - a 1x3 vector containing a test example to classify\n",
    "        \n",
    "    Returns:\n",
    "        An nx1 matrix containing the distances from test_example to all the\n",
    "        examples in train_X.\n",
    "    \"\"\"\n",
    "    \n",
    "    return LA.norm(train_X - test_example, ord=1, axis=1)\n",
    "\n",
    "def predict_one(distances, y_train, k):\n",
    "    \"\"\"\n",
    "    Given a vector of distances between a test example and all the training examples,\n",
    "    makes a prediction using a majority vote of k nearest neighbors.\n",
    "    \n",
    "    Parameters:\n",
    "        distances - an nx1 matrix containing the distances from a test example to\n",
    "                    all training examples.\n",
    "        train_y - an nx1 matrix containing the true labels\n",
    "        k - the number of neighbors participating in the prediction\n",
    "        \n",
    "    Returns:\n",
    "        A classification for the test example in question (i.e., either a 0 or a 1).\n",
    "    \"\"\"\n",
    "    result = np.argpartition(distances,k)[:k]\n",
    "    classification = y_train[result]\n",
    "    return stats.mode(classification, axis=None)[0][0]\n",
    "\n",
    "def predict_all(X_train, y_train, X_test, k):\n",
    "    \"\"\"\n",
    "    Makes a k-NN prediction for every example in X_test, using (X_train, y_train).\n",
    "    \n",
    "    Parameters:\n",
    "        X_train - matrix of training data\n",
    "        y_train - vector of training labels\n",
    "        X_test - matrix of test data to be classified\n",
    "        k - the number of nearest neighbors participating in the classification.\n",
    "        \n",
    "    Returns:\n",
    "        An nx1 matrix of predictions for every test case.\n",
    "    \"\"\"\n",
    "    y_preds = []\n",
    "    for ex in X_test:\n",
    "        distances = compute_distances(X_train, ex)\n",
    "        p = predict_one(distances, y_train, k)\n",
    "        y_preds.append(p)\n",
    "    return y_preds"
   ]
  },
  {
   "cell_type": "code",
   "execution_count": 9,
   "id": "14860462-e4a0-4519-bd66-f113919b4b33",
   "metadata": {},
   "outputs": [],
   "source": [
    "tI = train_images[:1000]\n",
    "tL = train_labels[:1000]\n",
    "teI = test_images[:1000]\n",
    "teL = test_labels[:1000]\n",
    "from sklearn.metrics import confusion_matrix, f1_score"
   ]
  },
  {
   "cell_type": "code",
   "execution_count": 10,
   "id": "bbd84512-bd2d-4921-a5d9-a0dee122e1c6",
   "metadata": {},
   "outputs": [],
   "source": [
    "def convert_to_binary(image):\n",
    "    binary = np.zeros(image.shape)\n",
    "    for i in range(0,image.shape[0]):\n",
    "        if image[i] > 128 :\n",
    "            binary[i] = 1\n",
    "    return binary\n",
    "\n",
    "def all_to_binary(images):\n",
    "    binary = []\n",
    "    for image in images:\n",
    "        binary.append(convert_to_binary(image))\n",
    "    return np.array(binary)"
   ]
  },
  {
   "cell_type": "code",
   "execution_count": 11,
   "id": "8a3ec0ed-209c-4407-bef1-2762825d347c",
   "metadata": {},
   "outputs": [],
   "source": [
    "#binary training\n",
    "tIb = all_to_binary(train_images)\n",
    "teIb = all_to_binary(test_images)\n",
    "tIb5 = tIb[:1000]\n",
    "teIb5 = teIb[:1000]"
   ]
  },
  {
   "cell_type": "code",
   "execution_count": 12,
   "id": "74bae169-f34d-4eb0-955c-22a073240ddc",
   "metadata": {
    "tags": []
   },
   "outputs": [
    {
     "name": "stdout",
     "output_type": "stream",
     "text": [
      "Non-Binary Values\n",
      "[[82  1  1  5  0 14  3  0  1  0]\n",
      " [ 2 79  0  1  0 23  0  0  0  0]\n",
      " [17  4 43 11 11 16  9  0  0  0]\n",
      " [13 12  1 42  1 23  1  0  0  0]\n",
      " [10  2 24 24 31 23  1  0  0  0]\n",
      " [ 0  2  1  0  0 63  5 13  0  3]\n",
      " [26  4 20 11  6 11 19  0  0  0]\n",
      " [ 0  0  0  0  0 20  0 62  0 13]\n",
      " [ 3 10  3  2  2 13  5 10 43  4]\n",
      " [ 0  3  1  0  0 36  1  7  0 47]]\n",
      "0.511\n"
     ]
    }
   ],
   "source": [
    "#Non binary with our KNN Implementation\n",
    "preds = predict_all(tI, tL, teI, 5)\n",
    "print(\"Non-Binary Values\")\n",
    "print(confusion_matrix(teL, preds))\n",
    "print(f1_score(teL, preds, average='micro'))"
   ]
  },
  {
   "cell_type": "code",
   "execution_count": 13,
   "id": "9c2ed599-f59d-4377-ae57-aa90e32ee62b",
   "metadata": {},
   "outputs": [
    {
     "name": "stdout",
     "output_type": "stream",
     "text": [
      "Binary Values\n",
      "[[77  0  4  1  0  0 13  7  5  0]\n",
      " [ 3 94  0  4  0  0  2  1  1  0]\n",
      " [ 9  0 64  0 18  0 13  5  2  0]\n",
      " [ 8  4  0 68  1  0  6  5  1  0]\n",
      " [ 5  2 17  7 77  0  7  0  0  0]\n",
      " [ 0  0  0  0  0 51  1 26  0  9]\n",
      " [26  0 15  2 10  0 42  1  1  0]\n",
      " [ 0  0  0  0  0  4  0 82  0  9]\n",
      " [ 0  1  1  1  2  8  0 11 71  0]\n",
      " [ 0  0  0  0  0  2  0  7  0 86]]\n",
      "0.712\n"
     ]
    }
   ],
   "source": [
    "#Binary values with our KNN Implementation\n",
    "predsb = predict_all(tIb5, tL, teIb5, 5)\n",
    "print(\"Binary Values\")\n",
    "print(confusion_matrix(teL, predsb))\n",
    "print(f1_score(teL, predsb, average='micro'))"
   ]
  },
  {
   "cell_type": "markdown",
   "id": "5b7ed96f-ada9-43f6-bf37-4663792ee476",
   "metadata": {},
   "source": [
    "Change around the k value"
   ]
  },
  {
   "cell_type": "code",
   "execution_count": 14,
   "id": "e56ef40c-9432-4ff2-a366-9e9bccea9ca9",
   "metadata": {},
   "outputs": [
    {
     "data": {
      "text/plain": [
       "[<matplotlib.lines.Line2D at 0x145e35289a90>]"
      ]
     },
     "execution_count": 14,
     "metadata": {},
     "output_type": "execute_result"
    },
    {
     "data": {
      "image/png": "[encoded data removed]",
      "text/plain": [
       "<Figure size 432x288 with 1 Axes>"
      ]
     },
     "metadata": {
      "needs_background": "light"
     },
     "output_type": "display_data"
    }
   ],
   "source": [
    "scores = []\n",
    "for k in range(1,35,2):\n",
    "    preds = predict_all(tIb5, tL, teIb5, k)\n",
    "    scores.append(f1_score(teL, preds, average='micro'))\n",
    "\n",
    "plt.xlabel('K Values')\n",
    "plt.ylabel('F1 Score')\n",
    "plt.title('FMNIST Binary')\n",
    "plt.plot(np.arange(1,35,2),scores, \"o-\")"
   ]
  },
  {
   "cell_type": "code",
   "execution_count": 15,
   "id": "bd49b9e8-2008-4288-b19f-88edc8edfe63",
   "metadata": {},
   "outputs": [
    {
     "data": {
      "text/plain": [
       "[<matplotlib.lines.Line2D at 0x145e352c1790>]"
      ]
     },
     "execution_count": 15,
     "metadata": {},
     "output_type": "execute_result"
    },
    {
     "data": {
      "image/png": "[encoded data removed]",
      "text/plain": [
       "<Figure size 432x288 with 1 Axes>"
      ]
     },
     "metadata": {
      "needs_background": "light"
     },
     "output_type": "display_data"
    }
   ],
   "source": [
    "scores = []\n",
    "for k in range(1,35,2):\n",
    "    preds = predict_all(tI, tL, teI, k)\n",
    "    scores.append(f1_score(teL, preds, average='micro'))\n",
    "\n",
    "plt.xlabel('K Values')\n",
    "plt.ylabel('F1 Score')\n",
    "plt.title('FMNIST Normal')\n",
    "plt.plot(np.arange(1,35,2),scores, \"o-\")"
   ]
  },
  {
   "cell_type": "code",
   "execution_count": 16,
   "id": "c172bb28-2dd4-4dd0-a75a-8bc417af3eec",
   "metadata": {},
   "outputs": [
    {
     "data": {
      "image/png": "[encoded data removed]",
      "text/plain": [
       "<Figure size 720x720 with 20 Axes>"
      ]
     },
     "metadata": {},
     "output_type": "display_data"
    }
   ],
   "source": [
    "#Plotting figures \n",
    "plt.figure(figsize=(10,10))\n",
    "for i in range(20):\n",
    "    plt.subplot(5,5,i+1)\n",
    "    plt.xticks([])\n",
    "    plt.yticks([])\n",
    "    plt.grid(False)\n",
    "    plt.imshow(train_images[i].reshape(28, 28), cmap=plt.cm.binary)\n",
    "    plt.xlabel(train_labels[i])\n",
    "plt.show()"
   ]
  },
  {
   "cell_type": "code",
   "execution_count": 17,
   "id": "2b9fdcc2-5a38-429a-8446-903522c4b0ac",
   "metadata": {},
   "outputs": [
    {
     "data": {
      "text/plain": [
       "0.8554"
      ]
     },
     "execution_count": 17,
     "metadata": {},
     "output_type": "execute_result"
    }
   ],
   "source": [
    "#implementation of the scikit k-nearest neighbors\n",
    "from sklearn.neighbors import KNeighborsClassifier\n",
    "from sklearn.metrics import classification_report\n",
    "from sklearn.metrics import accuracy_score\n",
    "neigh = KNeighborsClassifier(n_neighbors=5)\n",
    "\n",
    "neigh.fit(train_images, train_labels)\n",
    "#params = neigh.get_params(deep=True)\n",
    "\n",
    "preds1 = neigh.predict(test_images)\n",
    "\n",
    "accuracy_score(test_labels, preds1)"
   ]
  },
  {
   "cell_type": "code",
   "execution_count": 18,
   "id": "fc40195c-1033-40b0-8f26-cecd75c5a13c",
   "metadata": {},
   "outputs": [
    {
     "name": "stdout",
     "output_type": "stream",
     "text": [
      "Binary accuracy of models: [0.7823, 0.7919, 0.7983, 0.7952, 0.795, 0.7895, 0.792, 0.7901, 0.7858, 0.787, 0.7855, 0.7851, 0.7834, 0.7806, 0.7778, 0.7773, 0.7774]\n"
     ]
    },
    {
     "data": {
      "image/png": "[encoded data removed]",
      "text/plain": [
       "<Figure size 432x288 with 1 Axes>"
      ]
     },
     "metadata": {
      "needs_background": "light"
     },
     "output_type": "display_data"
    }
   ],
   "source": [
    "scores = []\n",
    "for k in range(1,35,2):\n",
    "    neigh = KNeighborsClassifier(n_neighbors=k)\n",
    "    neigh.fit(tIb, train_labels)\n",
    "    preds = neigh.predict(teIb)\n",
    "    scores.append(accuracy_score(test_labels, preds))\n",
    "\n",
    "plt.xlabel('K Values')\n",
    "plt.ylabel('Accuracy')\n",
    "plt.title('FMNIST SciKit')\n",
    "plt.plot(np.arange(1,35,2),scores, \"o-\")\n",
    "print(\"Binary accuracy of models:\", scores)"
   ]
  },
  {
   "cell_type": "code",
   "execution_count": 19,
   "id": "c75a8e2f-f14d-4b09-8c4d-cac2d89a81ce",
   "metadata": {},
   "outputs": [
    {
     "name": "stdout",
     "output_type": "stream",
     "text": [
      "Non-Binary accuracy of models: [0.8497, 0.8541, 0.8554, 0.854, 0.8519, 0.8495, 0.8468, 0.8462, 0.8441, 0.8427, 0.8407, 0.8394, 0.8375, 0.8382, 0.8373, 0.8348, 0.8335]\n"
     ]
    },
    {
     "data": {
      "image/png": "[encoded data removed]",
      "text/plain": [
       "<Figure size 432x288 with 1 Axes>"
      ]
     },
     "metadata": {
      "needs_background": "light"
     },
     "output_type": "display_data"
    }
   ],
   "source": [
    "scoresNonB = []\n",
    "for k in range(1,35,2):\n",
    "    neigh = KNeighborsClassifier(n_neighbors=k)\n",
    "    neigh.fit(train_images, train_labels)\n",
    "    preds = neigh.predict(test_images)\n",
    "    scoresNonB.append(accuracy_score(test_labels, preds))\n",
    "\n",
    "plt.xlabel('K Values')\n",
    "plt.ylabel('Accuracy')\n",
    "plt.title('FMNIST SciKit')\n",
    "plt.plot(np.arange(1,35,2),scoresNonB, \"o-\")\n",
    "print(\"Non-Binary accuracy of models:\", scoresNonB)"
   ]
  },
  {
   "cell_type": "code",
   "execution_count": 20,
   "id": "78754a40-8e11-4090-b674-99d518e74d02",
   "metadata": {},
   "outputs": [
    {
     "name": "stdout",
     "output_type": "stream",
     "text": [
      "[[855   1  17  16   3   1 100   1   6   0]\n",
      " [  8 968   4  12   4   0   3   0   1   0]\n",
      " [ 24   2 819  11  75   0  69   0   0   0]\n",
      " [ 41   8  15 860  39   0  34   0   3   0]\n",
      " [  2   1 126  26 773   0  71   0   1   0]\n",
      " [  1   0   0   0   0 822   5  96   1  75]\n",
      " [176   1 132  23  80   0 575   0  13   0]\n",
      " [  0   0   0   0   0   3   0 961   0  36]\n",
      " [  2   0  10   4   7   0  16   7 953   1]\n",
      " [  0   0   0   0   0   2   1  29   0 968]]\n",
      "0.8554\n"
     ]
    }
   ],
   "source": [
    "#comparing actual positives to false positives, with its accuracy score\n",
    "print(confusion_matrix(test_labels, preds1))\n",
    "print(accuracy_score(test_labels, preds1))"
   ]
  },
  {
   "cell_type": "code",
   "execution_count": 21,
   "id": "cf6325b1-11b3-442c-933c-0a730b8c2a2c",
   "metadata": {},
   "outputs": [
    {
     "name": "stdout",
     "output_type": "stream",
     "text": [
      "              precision    recall  f1-score   support\n",
      "\n",
      "           0       0.77      0.85      0.81      1000\n",
      "           1       0.99      0.97      0.98      1000\n",
      "           2       0.73      0.82      0.77      1000\n",
      "           3       0.90      0.86      0.88      1000\n",
      "           4       0.79      0.77      0.78      1000\n",
      "           5       0.99      0.82      0.90      1000\n",
      "           6       0.66      0.57      0.61      1000\n",
      "           7       0.88      0.96      0.92      1000\n",
      "           8       0.97      0.95      0.96      1000\n",
      "           9       0.90      0.97      0.93      1000\n",
      "\n",
      "    accuracy                           0.86     10000\n",
      "   macro avg       0.86      0.86      0.85     10000\n",
      "weighted avg       0.86      0.86      0.85     10000\n",
      "\n"
     ]
    }
   ],
   "source": [
    "#break down of the accuracy of each label for knn \n",
    "print(classification_report(test_labels, preds1))"
   ]
  },
  {
   "cell_type": "code",
   "execution_count": 22,
   "id": "8c96a613-14ea-464a-98b1-4dd9a95e0571",
   "metadata": {},
   "outputs": [
    {
     "name": "stdout",
     "output_type": "stream",
     "text": [
      "0.8412\n"
     ]
    },
    {
     "name": "stderr",
     "output_type": "stream",
     "text": [
      "/opt/pub/eb/apps/all/DavidsonJupyter/2021-common-GCCcore-10.2.0/lib/python3.8/site-packages/sklearn/linear_model/_logistic.py:444: ConvergenceWarning: lbfgs failed to converge (status=1):\n",
      "STOP: TOTAL NO. of ITERATIONS REACHED LIMIT.\n",
      "\n",
      "Increase the number of iterations (max_iter) or scale the data as shown in:\n",
      "    https://scikit-learn.org/stable/modules/preprocessing.html\n",
      "Please also refer to the documentation for alternative solver options:\n",
      "    https://scikit-learn.org/stable/modules/linear_model.html#logistic-regression\n",
      "  n_iter_i = _check_optimize_result(\n"
     ]
    }
   ],
   "source": [
    "#implementation of the logistic regression\n",
    "from sklearn.linear_model import LogisticRegression\n",
    "logReg = LogisticRegression(random_state=0)\n",
    "logReg.fit(train_images, train_labels)\n",
    "pr = logReg.predict(test_images)\n",
    "print(accuracy_score(test_labels, pr))\n",
    "#Actually pretty good accuracy, comparable to the knn model"
   ]
  },
  {
   "cell_type": "code",
   "execution_count": 23,
   "id": "d5f19881-d955-462b-9fdf-c047d421a307",
   "metadata": {},
   "outputs": [
    {
     "name": "stdout",
     "output_type": "stream",
     "text": [
      "              precision    recall  f1-score   support\n",
      "\n",
      "           0       0.81      0.81      0.81      1000\n",
      "           1       0.97      0.96      0.96      1000\n",
      "           2       0.73      0.74      0.73      1000\n",
      "           3       0.84      0.86      0.85      1000\n",
      "           4       0.71      0.78      0.74      1000\n",
      "           5       0.94      0.89      0.92      1000\n",
      "           6       0.64      0.55      0.59      1000\n",
      "           7       0.90      0.93      0.92      1000\n",
      "           8       0.93      0.95      0.94      1000\n",
      "           9       0.93      0.94      0.94      1000\n",
      "\n",
      "    accuracy                           0.84     10000\n",
      "   macro avg       0.84      0.84      0.84     10000\n",
      "weighted avg       0.84      0.84      0.84     10000\n",
      "\n"
     ]
    }
   ],
   "source": [
    "#break down of the accuracy of each label for logReg\n",
    "print(classification_report(test_labels, pr))"
   ]
  },
  {
   "cell_type": "code",
   "execution_count": 24,
   "id": "f1fa7c80-7428-4837-bf4b-c1a0cbf40932",
   "metadata": {},
   "outputs": [
    {
     "name": "stdout",
     "output_type": "stream",
     "text": [
      "[[812   5  16  46   9   0  98   0  14   0]\n",
      " [  2 960   1  27   4   0   4   0   2   0]\n",
      " [ 18   6 737  11 140   1  78   0   9   0]\n",
      " [ 25  15  15 858  44   1  37   0   5   0]\n",
      " [  0   3 106  33 779   1  70   0   8   0]\n",
      " [  1   1   0   0   0 891   0  56   9  42]\n",
      " [139   3 129  42 114   0 550   0  23   0]\n",
      " [  0   0   0   0   0  36   0 933   0  31]\n",
      " [  3   1   7  10   2   3  21   5 947   1]\n",
      " [  0   0   0   0   0  13   0  39   3 945]]\n"
     ]
    }
   ],
   "source": [
    "print(confusion_matrix(test_labels, pr))"
   ]
  },
  {
   "cell_type": "code",
   "execution_count": null,
   "id": "be4eb06f-92d8-449f-bbab-b1f083d1e259",
   "metadata": {},
   "outputs": [],
   "source": []
  }
 ],
 "metadata": {
  "kernelspec": {
   "display_name": "Python 3.8",
   "language": "python",
   "name": "python3"
  },
  "language_info": {
   "codemirror_mode": {
    "name": "ipython",
    "version": 3
   },
   "file_extension": ".py",
   "mimetype": "text/x-python",
   "name": "python",
   "nbconvert_exporter": "python",
   "pygments_lexer": "ipython3",
   "version": "3.8.6"
  }
 },
 "nbformat": 4,
 "nbformat_minor": 5
}
