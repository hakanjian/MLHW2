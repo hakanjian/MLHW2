{
 "cells": [
  {
   "cell_type": "code",
   "execution_count": 1,
   "id": "loose-singapore",
   "metadata": {
    "tags": []
   },
   "outputs": [],
   "source": [
    "import gzip\n",
    "import numpy as np\n",
    "import matplotlib.pyplot as plt\n",
    "\n",
    "\n",
    "def load_fashion_mnist():\n",
    "    \"\"\"\n",
    "    Loads Fashion MNIST dataset.\n",
    "    \n",
    "    Adapted from: https://github.com/zalandoresearch/fashion-mnist/blob/master/utils/mnist_reader.py\n",
    "    \"\"\"\n",
    "    TRAIN_IMAGES = 'train-images-idx3-ubyte.gz'\n",
    "    TRAIN_LABELS = 'train-labels-idx1-ubyte.gz'    \n",
    "    TEST_IMAGES = 't10k-images-idx3-ubyte.gz'\n",
    "    TEST_LABELS = 't10k-labels-idx1-ubyte.gz'\n",
    "\n",
    "    with gzip.open(TRAIN_LABELS, 'rb') as tr_labels_file, gzip.open(TEST_LABELS, 'rb') as ts_labels_file:\n",
    "        train_labels = np.frombuffer(tr_labels_file.read(), dtype=np.uint8, offset=8)\n",
    "        test_labels = np.frombuffer(ts_labels_file.read(), dtype=np.uint8, offset=8)\n",
    "\n",
    "    with gzip.open(TRAIN_IMAGES, 'rb') as tr_images_file, gzip.open(TEST_IMAGES, 'rb') as ts_images_file:\n",
    "        train_images = np.frombuffer(tr_images_file.read(), dtype=np.uint8, offset=16).reshape(len(train_labels), 784)\n",
    "        test_images = np.frombuffer(ts_images_file.read(), dtype=np.uint8, offset=16).reshape(len(test_labels), 784)\n",
    "\n",
    "    return train_images, train_labels, test_images, test_labels"
   ]
  },
  {
   "cell_type": "code",
   "execution_count": 2,
   "id": "civilian-shift",
   "metadata": {
    "tags": []
   },
   "outputs": [],
   "source": [
    "def pretty_print(image_example):\n",
    "    \"\"\" Pretty prints a Fashion MNIST example.\n",
    "\n",
    "    Parameters:\n",
    "        image_example: a 1x784 numpy array corresponding to the features of\n",
    "                       a single image.\n",
    "\n",
    "    Returns:\n",
    "        None.\n",
    "    \"\"\"\n",
    "    print(np.array_str(image_example, precision=1, max_line_width=116))\n"
   ]
  },
  {
   "cell_type": "code",
   "execution_count": 3,
   "id": "valuable-university",
   "metadata": {
    "tags": []
   },
   "outputs": [],
   "source": [
    "def usage_example():\n",
    "    \"\"\" Example of how to load and parse Fashion MNIST data. \"\"\"\n",
    "    \n",
    "    train_images, train_labels, test_images, test_labels = load_fashion_mnist()\n",
    "\n",
    "    # train_images is a 60,000 x 784 numpy matrix. There are 60k\n",
    "    # rows in the matrix, each row corresponding to a single example.\n",
    "    # There are 784 columns, each corresponding to the value of a\n",
    "    # single pixel in the 28x28 image after it has been \"flattened\".\n",
    "    print(\"Dimensions of training set feature matrix:\", train_images.shape)\n",
    "\n",
    "    # The labels for each example are maintained separately in train_labels.\n",
    "    # This is a 60,000 x 1 numpy matrix, where each element is the label\n",
    "    # for the corresponding training example.\n",
    "    print(\"Dimensions of training set label matrix:\", train_labels.shape)\n",
    "\n",
    "    # Example of how to access a individual training example (in this case,\n",
    "    # we pick an example at a random index). We could use print to output the\n",
    "    # raw pixel values to the screen, but pretty_print formats the data in \n",
    "    # a nicer way: if you squint, you may be able to make out the contours of\n",
    "    # the fashion article in the matrix data.\n",
    "    EXAMPLE_INDEX = np.random.randint(60000)\n",
    "    print(\"Features of training example at index {}:\\n\".format(EXAMPLE_INDEX))\n",
    "    pretty_print(train_images[EXAMPLE_INDEX])\n",
    "\n",
    "    # And here's the label that goes with that training example\n",
    "    print(\"\\nLabel of training example at index {}:\".format(EXAMPLE_INDEX), train_labels[EXAMPLE_INDEX], '\\n')\n",
    "\n",
    "    # Finally, let's visualize the example we've picked as a 28x28 image\n",
    "    plt.figure()\n",
    "    plt.imshow(train_images[EXAMPLE_INDEX].reshape(28, 28))\n",
    "    plt.show()\n",
    "    \n",
    "    # The test_images/test_labels are organized in the same way, but only contain 10k\n",
    "    # examples. Don't touch this data until your model is frozen! Perform all\n",
    "    # cross-validation, model selection, hyperparameter tuning etc. on the 60k\n",
    "    # training set. Use the test set simply for reporting performance.\n"
   ]
  },
  {
   "cell_type": "code",
   "execution_count": 4,
   "id": "international-lemon",
   "metadata": {
    "collapsed": true,
    "jupyter": {
     "outputs_hidden": true
    },
    "tags": []
   },
   "outputs": [
    {
     "name": "stdout",
     "output_type": "stream",
     "text": [
      "Dimensions of training set feature matrix: (60000, 784)\n",
      "Dimensions of training set label matrix: (60000,)\n",
      "Features of training example at index 33097:\n",
      "\n",
      "[  0   0   0   0   0   0   0   0   0   0 112 113 102 108  90 109  86 110 131   0   0   0   0   0   0   0   0   0\n",
      "   0   0   0   0   0   0   0   0   0   0 253 220 221 252 233 253 231 207 255  12   0   0   0   0   0   0   0   0\n",
      "   0   0   0   0   0   0   0   0   0  25 216 200 206 211 214 217 209 185 211  69   0   0   0   0   0   0   0   0\n",
      "   0   0   0   0   0   0   0   0   0  87 232 211 212 220 201 211 214 210 236 112   0   0   0   0   0   0   0   0\n",
      "   0   0   0   0   0   0   0   0   0 113 252 197 206 209 222 223 203 203 242 161   0   0   0   0   0   0   0   0\n",
      "   0   0   0   0   0   0   0   0   0 154 251 199 199 202 217 215 207 202 213 160   0   0   0   0   0   0   0   0\n",
      "   0   0   0   0   0   0   0   0   0 158 243 196 198 206 232 214 193 198 206 167   0   0   0   0   0   0   0   0\n",
      "   0   0   0   0   0   0   0   0   0 170 242 186 198 205 233 204 181 187 204 176   0   0   0   0   0   0   0   0\n",
      "   0   0   0   0   0   0   0   0   0 175 234 185 184 203 237 209 185 182 200 183   0   0   0   0   0   0   0   0\n",
      "   0   0   0   0   0   0   0   0   0 179 227 190 181 207 230 215 191 181 201 184   0   0   0   0   0   0   0   0\n",
      "   0   0   0   0   0   0   0   0   0 180 226 190 176 235 110 223 187 173 199 178   0   0   0   0   0   0   0   0\n",
      "   0   0   0   0   0   0   0   0   0 182 221 179 179 252  15 221 193 155 194 174   0   0   0   0   0   0   0   0\n",
      "   0   0   0   0   0   0   0   0   0 183 221 168 189 250   0 206 199 150 192 168   0   0   0   0   0   0   0   0\n",
      "   0   0   0   0   0   0   0   0   0 175 220 166 209 226   0 196 199 149 203 167   0   0   0   0   0   0   0   0\n",
      "   0   0   0   0   0   0   0   0   0 170 213 169 213 203   0 167 207 144 220 164   0   0   0   0   0   0   0   0\n",
      "   0   0   0   0   0   0   0   0   0 166 207 179 227 173   0 134 232 158 223 163   0   0   0   0   0   0   0   0\n",
      "   0   0   0   0   0   0   0   0   0 157 214 177 238 148   0 108 212 162 222 166   0   0   0   0   0   0   0   0\n",
      "   0   0   0   0   0   0   0   0   0 154 223 187 243 117   0  90 215 177 222 166   0   0   0   0   0   0   0   0\n",
      "   0   0   0   0   0   0   0   0   0 150 231 198 245 105   0  73 217 192 232 165   0   0   0   0   0   0   0   0\n",
      "   0   0   0   0   0   0   0   0   0 142 243 204 243  84   0  39 221 200 226 157   0   0   0   0   0   0   0   0\n",
      "   0   0   0   0   0   0   0   0   0 139 227 211 241  60   0  11 219 212 228 154   0   0   0   0   0   0   0   0\n",
      "   0   0   0   0   0   0   0   0   0 136 230 217 237  36   0   0 213 218 229 148   0   0   0   0   0   0   0   0\n",
      "   0   0   0   0   0   0   0   0   0 129 231 219 233  14   0   0 207 216 229 148   0   0   0   0   0   0   0   0\n",
      "   0   0   0   0   0   0   0   0   0 122 231 221 226   0   0   0 198 221 229 147   0   0   0   0   0   0   0   0\n",
      "   0   0   0   0   0   0   0   0   0 118 233 222 220   0   0   0 210 229 231 151   0   0   0   0   0   0   0   0\n",
      "   0   0   0   0   0   0   0   0   0 109 228 223 204   0   0   0 176 229 229 145   0   0   0   0   0   0   0   0\n",
      "   0   0   0   0   0   0   0   0   0 113 240 235 192   0   0   0 155 236 236 170   0   0   0   0   0   0   0   0\n",
      "   0   0   0   0   0   0   0   0   0  68 199 208 162   0   0   0 111 207 196 108   0   0   0   0   0   0   0   0]\n",
      "\n",
      "Label of training example at index 33097: 1 \n",
      "\n"
     ]
    },
    {
     "data": {
      "image/png": "[encoded data removed]",
      "text/plain": [
       "<Figure size 432x288 with 1 Axes>"
      ]
     },
     "metadata": {
      "needs_background": "light"
     },
     "output_type": "display_data"
    }
   ],
   "source": [
    "usage_example()"
   ]
  },
  {
   "cell_type": "code",
   "execution_count": 5,
   "id": "86c06bfd-2b65-4308-8536-78f85c534c02",
   "metadata": {},
   "outputs": [],
   "source": [
    "import sklearn\n",
    "train_images, train_labels, test_images, test_labels = load_fashion_mnist()"
   ]
  },
  {
   "cell_type": "code",
   "execution_count": 6,
   "id": "9275c0bb-90e0-4863-a352-af06d65f2441",
   "metadata": {},
   "outputs": [
    {
     "data": {
      "text/plain": [
       "array([9, 0, 0, ..., 3, 0, 5], dtype=uint8)"
      ]
     },
     "execution_count": 6,
     "metadata": {},
     "output_type": "execute_result"
    }
   ],
   "source": [
    "train_labels"
   ]
  },
  {
   "cell_type": "code",
   "execution_count": 9,
   "id": "7fed345f-d1da-4c5a-8fb8-bf91cac58d09",
   "metadata": {},
   "outputs": [
    {
     "data": {
      "text/plain": [
       "(array([6000, 6000, 6000, 6000, 6000, 6000, 6000, 6000, 6000, 6000]),\n",
       " array([ 0,  1,  2,  3,  4,  5,  6,  7,  8,  9, 10]))"
      ]
     },
     "execution_count": 9,
     "metadata": {},
     "output_type": "execute_result"
    }
   ],
   "source": [
    "#These are completely balanced\n",
    "r = [0,1,2,3,4,5,6,7,8,9,10]\n",
    "np.histogram(train_labels, bins=r)"
   ]
  },
  {
   "cell_type": "code",
   "execution_count": 43,
   "id": "1166b467-4342-47e7-a470-329c35637472",
   "metadata": {
    "jupyter": {
     "source_hidden": true
    },
    "tags": []
   },
   "outputs": [],
   "source": [
    "from numpy import linalg as LA\n",
    "from scipy import stats\n",
    "def compute_distances(train_X, test_example):\n",
    "    \"\"\"\n",
    "    Returns a vector of the distances between the given test_example\n",
    "    and every training example in the matrix train_X.\n",
    "    \n",
    "    Parameters:\n",
    "        train_X - an nx3 matrix, containing n training examples\n",
    "        test_examples - a 1x3 vector containing a test example to classify\n",
    "        \n",
    "    Returns:\n",
    "        An nx1 matrix containing the distances from test_example to all the\n",
    "        examples in train_X.\n",
    "    \"\"\"\n",
    "    \n",
    "    return LA.norm(train_X - test_example, ord=1, axis=1)\n",
    "\n",
    "def predict_one(distances, y_train, k):\n",
    "    \"\"\"\n",
    "    Given a vector of distances between a test example and all the training examples,\n",
    "    makes a prediction using a majority vote of k nearest neighbors.\n",
    "    \n",
    "    Parameters:\n",
    "        distances - an nx1 matrix containing the distances from a test example to\n",
    "                    all training examples.\n",
    "        train_y - an nx1 matrix containing the true labels\n",
    "        k - the number of neighbors participating in the prediction\n",
    "        \n",
    "    Returns:\n",
    "        A classification for the test example in question (i.e., either a 0 or a 1).\n",
    "    \"\"\"\n",
    "    result = np.argpartition(distances,k)[:k]\n",
    "    classification = y_train[result]\n",
    "    return stats.mode(classification, axis=None)[0][0]\n",
    "\n",
    "def predict_all(X_train, y_train, X_test, k):\n",
    "    \"\"\"\n",
    "    Makes a k-NN prediction for every example in X_test, using (X_train, y_train).\n",
    "    \n",
    "    Parameters:\n",
    "        X_train - matrix of training data\n",
    "        y_train - vector of training labels\n",
    "        X_test - matrix of test data to be classified\n",
    "        k - the number of nearest neighbors participating in the classification.\n",
    "        \n",
    "    Returns:\n",
    "        An nx1 matrix of predictions for every test case.\n",
    "    \"\"\"\n",
    "    y_preds = []\n",
    "    for ex in X_test:\n",
    "        distances = compute_distances(X_train, ex)\n",
    "        p = predict_one(distances, y_train, k)\n",
    "        y_preds.append(p)\n",
    "    return y_preds"
   ]
  },
  {
   "cell_type": "code",
   "execution_count": 48,
   "id": "14860462-e4a0-4519-bd66-f113919b4b33",
   "metadata": {},
   "outputs": [],
   "source": [
    "tI = train_images[:500]\n",
    "tL = train_labels[:500]\n",
    "teI = test_images[:500]\n",
    "teL = test_labels[:500]\n",
    "from sklearn.metrics import confusion_matrix, f1_score"
   ]
  },
  {
   "cell_type": "code",
   "execution_count": 90,
   "id": "bbd84512-bd2d-4921-a5d9-a0dee122e1c6",
   "metadata": {},
   "outputs": [],
   "source": [
    "def convert_to_binary(image):\n",
    "    binary = np.zeros(image.shape)\n",
    "    for i in range(0,image.shape[0]):\n",
    "        if image[i] > 128 :\n",
    "            binary[i] = 1\n",
    "    return binary\n",
    "\n",
    "def all_to_binary(images):\n",
    "    binary = []\n",
    "    for image in images:\n",
    "        binary.append(convert_to_binary(image))\n",
    "    return np.array(binary)"
   ]
  },
  {
   "cell_type": "code",
   "execution_count": 105,
   "id": "74bae169-f34d-4eb0-955c-22a073240ddc",
   "metadata": {},
   "outputs": [
    {
     "name": "stdout",
     "output_type": "stream",
     "text": [
      "[[40  1  0  4  0  8  1  1  0  0]\n",
      " [ 0 45  0  0  0  7  0  0  0  0]\n",
      " [10  2 25  6  6 12  4  0  0  0]\n",
      " [ 7  4  3 25  0  7  0  0  0  0]\n",
      " [ 3  2  9 19 14  6  4  0  0  0]\n",
      " [ 0  0  2  0  0 28  1  5  0  3]\n",
      " [11  2  5  9  5  5 10  0  0  0]\n",
      " [ 0  0  0  0  0 17  0 25  0  5]\n",
      " [ 2  0  3  3  2  7  2  5 19  1]\n",
      " [ 0  0  0  1  0 22  0  3  0 22]]\n",
      "0.5066390543740305\n",
      "[[45  0  3  0  2  0  3  0  2  0]\n",
      " [ 2 47  0  3  0  0  0  0  0  0]\n",
      " [12  0 36  0 12  0  5  0  0  0]\n",
      " [ 3  2  2 36  1  0  2  0  0  0]\n",
      " [ 4  1  7  2 39  0  4  0  0  0]\n",
      " [ 3  0  6  0  0 22  0  5  1  2]\n",
      " [17  2  6  1  8  0 13  0  0  0]\n",
      " [ 1  0  2  0  0  2  0 38  0  4]\n",
      " [ 0  0  6  0  0  4  1  2 30  1]\n",
      " [ 0  0  1  0  0  3  0  3  0 41]]\n",
      "0.6957231947764692\n"
     ]
    }
   ],
   "source": [
    "#binary training\n",
    "tIb = all_to_binary(train_images[:500])\n",
    "teIb = all_to_binary(test_images[:500])\n",
    "\n",
    "preds = predict_all(tI, tL, teI, 5)\n",
    "print(confusion_matrix(teL, preds))\n",
    "print(f1_score(teL, preds, average='macro'))\n",
    "predsb = predict_all(tIb, tL, teIb, 5)\n",
    "print(confusion_matrix(teL, predsb))\n",
    "print(f1_score(teL, predsb, average='macro'))"
   ]
  },
  {
   "cell_type": "markdown",
   "id": "5b7ed96f-ada9-43f6-bf37-4663792ee476",
   "metadata": {},
   "source": [
    "Change around the k value"
   ]
  },
  {
   "cell_type": "code",
   "execution_count": 98,
   "id": "e56ef40c-9432-4ff2-a366-9e9bccea9ca9",
   "metadata": {},
   "outputs": [
    {
     "data": {
      "text/plain": [
       "[<matplotlib.lines.Line2D at 0x14e844119340>]"
      ]
     },
     "execution_count": 98,
     "metadata": {},
     "output_type": "execute_result"
    },
    {
     "data": {
      "image/png": "[encoded data removed]",
      "text/plain": [
       "<Figure size 432x288 with 1 Axes>"
      ]
     },
     "metadata": {
      "needs_background": "light"
     },
     "output_type": "display_data"
    }
   ],
   "source": [
    "scores = []\n",
    "for k in range(1,35,2):\n",
    "    preds = predict_all(tIb, tL, teIb, k)\n",
    "    scores.append(f1_score(teL, preds, average='macro'))\n",
    "\n",
    "plt.xlabel('K Values')\n",
    "plt.ylabel('F1 Score')\n",
    "plt.title('FMNIST')\n",
    "plt.plot(np.arange(1,35,2),scores, \"o-\")"
   ]
  },
  {
   "cell_type": "code",
   "execution_count": 64,
   "id": "c172bb28-2dd4-4dd0-a75a-8bc417af3eec",
   "metadata": {},
   "outputs": [
    {
     "data": {
      "image/png": "[encoded data removed]",
      "text/plain": [
       "<Figure size 720x720 with 20 Axes>"
      ]
     },
     "metadata": {},
     "output_type": "display_data"
    }
   ],
   "source": [
    "#Plotting figures \n",
    "plt.figure(figsize=(10,10))\n",
    "for i in range(20):\n",
    "    plt.subplot(5,5,i+1)\n",
    "    plt.xticks([])\n",
    "    plt.yticks([])\n",
    "    plt.grid(False)\n",
    "    plt.imshow(train_images[i].reshape(28, 28), cmap=plt.cm.binary)\n",
    "    plt.xlabel(train_labels[i])\n",
    "plt.show()"
   ]
  },
  {
   "cell_type": "code",
   "execution_count": null,
   "id": "2b9fdcc2-5a38-429a-8446-903522c4b0ac",
   "metadata": {},
   "outputs": [],
   "source": []
  }
 ],
 "metadata": {
  "kernelspec": {
   "display_name": "Python 3.8",
   "language": "python",
   "name": "python3"
  },
  "language_info": {
   "codemirror_mode": {
    "name": "ipython",
    "version": 3
   },
   "file_extension": ".py",
   "mimetype": "text/x-python",
   "name": "python",
   "nbconvert_exporter": "python",
   "pygments_lexer": "ipython3",
   "version": "3.8.6"
  }
 },
 "nbformat": 4,
 "nbformat_minor": 5
}
