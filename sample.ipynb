{
 "cells": [
  {
   "cell_type": "code",
   "execution_count": 1,
   "id": "loose-singapore",
   "metadata": {
    "tags": []
   },
   "outputs": [],
   "source": [
    "import gzip\n",
    "import numpy as np\n",
    "import matplotlib.pyplot as plt\n",
    "\n",
    "\n",
    "def load_fashion_mnist():\n",
    "    \"\"\"\n",
    "    Loads Fashion MNIST dataset.\n",
    "    \n",
    "    Adapted from: https://github.com/zalandoresearch/fashion-mnist/blob/master/utils/mnist_reader.py\n",
    "    \"\"\"\n",
    "    TRAIN_IMAGES = 'train-images-idx3-ubyte.gz'\n",
    "    TRAIN_LABELS = 'train-labels-idx1-ubyte.gz'    \n",
    "    TEST_IMAGES = 't10k-images-idx3-ubyte.gz'\n",
    "    TEST_LABELS = 't10k-labels-idx1-ubyte.gz'\n",
    "\n",
    "    with gzip.open(TRAIN_LABELS, 'rb') as tr_labels_file, gzip.open(TEST_LABELS, 'rb') as ts_labels_file:\n",
    "        train_labels = np.frombuffer(tr_labels_file.read(), dtype=np.uint8, offset=8)\n",
    "        test_labels = np.frombuffer(ts_labels_file.read(), dtype=np.uint8, offset=8)\n",
    "\n",
    "    with gzip.open(TRAIN_IMAGES, 'rb') as tr_images_file, gzip.open(TEST_IMAGES, 'rb') as ts_images_file:\n",
    "        train_images = np.frombuffer(tr_images_file.read(), dtype=np.uint8, offset=16).reshape(len(train_labels), 784)\n",
    "        test_images = np.frombuffer(ts_images_file.read(), dtype=np.uint8, offset=16).reshape(len(test_labels), 784)\n",
    "\n",
    "    return train_images, train_labels, test_images, test_labels"
   ]
  },
  {
   "cell_type": "code",
   "execution_count": 2,
   "id": "civilian-shift",
   "metadata": {
    "tags": []
   },
   "outputs": [],
   "source": [
    "def pretty_print(image_example):\n",
    "    \"\"\" Pretty prints a Fashion MNIST example.\n",
    "\n",
    "    Parameters:\n",
    "        image_example: a 1x784 numpy array corresponding to the features of\n",
    "                       a single image.\n",
    "\n",
    "    Returns:\n",
    "        None.\n",
    "    \"\"\"\n",
    "    print(np.array_str(image_example, precision=1, max_line_width=116))\n"
   ]
  },
  {
   "cell_type": "code",
   "execution_count": 3,
   "id": "valuable-university",
   "metadata": {
    "tags": []
   },
   "outputs": [],
   "source": [
    "def usage_example():\n",
    "    \"\"\" Example of how to load and parse Fashion MNIST data. \"\"\"\n",
    "    \n",
    "    train_images, train_labels, test_images, test_labels = load_fashion_mnist()\n",
    "\n",
    "    # train_images is a 60,000 x 784 numpy matrix. There are 60k\n",
    "    # rows in the matrix, each row corresponding to a single example.\n",
    "    # There are 784 columns, each corresponding to the value of a\n",
    "    # single pixel in the 28x28 image after it has been \"flattened\".\n",
    "    print(\"Dimensions of training set feature matrix:\", train_images.shape)\n",
    "\n",
    "    # The labels for each example are maintained separately in train_labels.\n",
    "    # This is a 60,000 x 1 numpy matrix, where each element is the label\n",
    "    # for the corresponding training example.\n",
    "    print(\"Dimensions of training set label matrix:\", train_labels.shape)\n",
    "\n",
    "    # Example of how to access a individual training example (in this case,\n",
    "    # we pick an example at a random index). We could use print to output the\n",
    "    # raw pixel values to the screen, but pretty_print formats the data in \n",
    "    # a nicer way: if you squint, you may be able to make out the contours of\n",
    "    # the fashion article in the matrix data.\n",
    "    EXAMPLE_INDEX = np.random.randint(60000)\n",
    "    print(\"Features of training example at index {}:\\n\".format(EXAMPLE_INDEX))\n",
    "    pretty_print(train_images[EXAMPLE_INDEX])\n",
    "\n",
    "    # And here's the label that goes with that training example\n",
    "    print(\"\\nLabel of training example at index {}:\".format(EXAMPLE_INDEX), train_labels[EXAMPLE_INDEX], '\\n')\n",
    "\n",
    "    # Finally, let's visualize the example we've picked as a 28x28 image\n",
    "    plt.figure()\n",
    "    plt.imshow(train_images[EXAMPLE_INDEX].reshape(28, 28))\n",
    "    plt.show()\n",
    "    \n",
    "    # The test_images/test_labels are organized in the same way, but only contain 10k\n",
    "    # examples. Don't touch this data until your model is frozen! Perform all\n",
    "    # cross-validation, model selection, hyperparameter tuning etc. on the 60k\n",
    "    # training set. Use the test set simply for reporting performance.\n"
   ]
  },
  {
   "cell_type": "code",
   "execution_count": null,
   "id": "international-lemon",
   "metadata": {
    "tags": []
   },
   "outputs": [],
   "source": [
    "usage_example()"
   ]
  },
  {
   "cell_type": "code",
   "execution_count": 4,
   "id": "86c06bfd-2b65-4308-8536-78f85c534c02",
   "metadata": {},
   "outputs": [],
   "source": [
    "import sklearn\n",
    "train_images, train_labels, test_images, test_labels = load_fashion_mnist()"
   ]
  },
  {
   "cell_type": "code",
   "execution_count": null,
   "id": "9275c0bb-90e0-4863-a352-af06d65f2441",
   "metadata": {},
   "outputs": [],
   "source": [
    "train_labels"
   ]
  },
  {
   "cell_type": "code",
   "execution_count": 5,
   "id": "7fed345f-d1da-4c5a-8fb8-bf91cac58d09",
   "metadata": {},
   "outputs": [
    {
     "data": {
      "text/plain": [
       "(array([6000, 6000, 6000, 6000, 6000, 6000, 6000, 6000, 6000, 6000]),\n",
       " array([ 0,  1,  2,  3,  4,  5,  6,  7,  8,  9, 10]))"
      ]
     },
     "execution_count": 5,
     "metadata": {},
     "output_type": "execute_result"
    }
   ],
   "source": [
    "#These are completely balanced\n",
    "r = [0,1,2,3,4,5,6,7,8,9,10]\n",
    "np.histogram(train_labels, bins=r)"
   ]
  },
  {
   "cell_type": "code",
   "execution_count": 6,
   "id": "1166b467-4342-47e7-a470-329c35637472",
   "metadata": {
    "tags": []
   },
   "outputs": [],
   "source": [
    "from numpy import linalg as LA\n",
    "from scipy import stats\n",
    "def compute_distances(train_X, test_example):\n",
    "    \"\"\"\n",
    "    Returns a vector of the distances between the given test_example\n",
    "    and every training example in the matrix train_X.\n",
    "    \n",
    "    Parameters:\n",
    "        train_X - an nx3 matrix, containing n training examples\n",
    "        test_examples - a 1x3 vector containing a test example to classify\n",
    "        \n",
    "    Returns:\n",
    "        An nx1 matrix containing the distances from test_example to all the\n",
    "        examples in train_X.\n",
    "    \"\"\"\n",
    "    \n",
    "    return LA.norm(train_X - test_example, ord=1, axis=1)\n",
    "\n",
    "def predict_one(distances, y_train, k):\n",
    "    \"\"\"\n",
    "    Given a vector of distances between a test example and all the training examples,\n",
    "    makes a prediction using a majority vote of k nearest neighbors.\n",
    "    \n",
    "    Parameters:\n",
    "        distances - an nx1 matrix containing the distances from a test example to\n",
    "                    all training examples.\n",
    "        train_y - an nx1 matrix containing the true labels\n",
    "        k - the number of neighbors participating in the prediction\n",
    "        \n",
    "    Returns:\n",
    "        A classification for the test example in question (i.e., either a 0 or a 1).\n",
    "    \"\"\"\n",
    "    result = np.argpartition(distances,k)[:k]\n",
    "    classification = y_train[result]\n",
    "    return stats.mode(classification, axis=None)[0][0]\n",
    "\n",
    "def predict_all(X_train, y_train, X_test, k):\n",
    "    \"\"\"\n",
    "    Makes a k-NN prediction for every example in X_test, using (X_train, y_train).\n",
    "    \n",
    "    Parameters:\n",
    "        X_train - matrix of training data\n",
    "        y_train - vector of training labels\n",
    "        X_test - matrix of test data to be classified\n",
    "        k - the number of nearest neighbors participating in the classification.\n",
    "        \n",
    "    Returns:\n",
    "        An nx1 matrix of predictions for every test case.\n",
    "    \"\"\"\n",
    "    y_preds = []\n",
    "    for ex in X_test:\n",
    "        distances = compute_distances(X_train, ex)\n",
    "        p = predict_one(distances, y_train, k)\n",
    "        y_preds.append(p)\n",
    "    return y_preds"
   ]
  },
  {
   "cell_type": "code",
   "execution_count": 7,
   "id": "14860462-e4a0-4519-bd66-f113919b4b33",
   "metadata": {},
   "outputs": [],
   "source": [
    "tI = train_images[:500]\n",
    "tL = train_labels[:500]\n",
    "teI = test_images[:500]\n",
    "teL = test_labels[:500]\n",
    "from sklearn.metrics import confusion_matrix, f1_score"
   ]
  },
  {
   "cell_type": "code",
   "execution_count": 8,
   "id": "bbd84512-bd2d-4921-a5d9-a0dee122e1c6",
   "metadata": {},
   "outputs": [],
   "source": [
    "def convert_to_binary(image):\n",
    "    binary = np.zeros(image.shape)\n",
    "    for i in range(0,image.shape[0]):\n",
    "        if image[i] > 128 :\n",
    "            binary[i] = 1\n",
    "    return binary\n",
    "\n",
    "def all_to_binary(images):\n",
    "    binary = []\n",
    "    for image in images:\n",
    "        binary.append(convert_to_binary(image))\n",
    "    return np.array(binary)"
   ]
  },
  {
   "cell_type": "code",
   "execution_count": 9,
   "id": "74bae169-f34d-4eb0-955c-22a073240ddc",
   "metadata": {},
   "outputs": [
    {
     "name": "stdout",
     "output_type": "stream",
     "text": [
      "[[40  1  0  4  0  8  1  1  0  0]\n",
      " [ 0 45  0  0  0  7  0  0  0  0]\n",
      " [10  2 25  6  6 12  4  0  0  0]\n",
      " [ 7  4  3 25  0  7  0  0  0  0]\n",
      " [ 3  2  9 19 14  6  4  0  0  0]\n",
      " [ 0  0  2  0  0 28  1  5  0  3]\n",
      " [11  2  5  9  5  5 10  0  0  0]\n",
      " [ 0  0  0  0  0 17  0 25  0  5]\n",
      " [ 2  0  3  3  2  7  2  5 19  1]\n",
      " [ 0  0  0  1  0 22  0  3  0 22]]\n",
      "0.506\n",
      "[[45  0  3  0  2  0  3  0  2  0]\n",
      " [ 2 47  0  3  0  0  0  0  0  0]\n",
      " [12  0 36  0 12  0  5  0  0  0]\n",
      " [ 3  2  2 36  1  0  2  0  0  0]\n",
      " [ 4  1  7  2 39  0  4  0  0  0]\n",
      " [ 3  0  6  0  0 22  0  5  1  2]\n",
      " [17  2  6  1  8  0 13  0  0  0]\n",
      " [ 1  0  2  0  0  2  0 38  0  4]\n",
      " [ 0  0  6  0  0  4  1  2 30  1]\n",
      " [ 0  0  1  0  0  3  0  3  0 41]]\n",
      "0.694\n"
     ]
    }
   ],
   "source": [
    "#binary training\n",
    "tIb = all_to_binary(train_images[:500])\n",
    "teIb = all_to_binary(test_images[:500])\n",
    "\n",
    "preds = predict_all(tI, tL, teI, 5)\n",
    "print(confusion_matrix(teL, preds))\n",
    "print(f1_score(teL, preds, average='micro'))\n",
    "predsb = predict_all(tIb, tL, teIb, 5)\n",
    "print(confusion_matrix(teL, predsb))\n",
    "print(f1_score(teL, predsb, average='micro'))"
   ]
  },
  {
   "cell_type": "markdown",
   "id": "5b7ed96f-ada9-43f6-bf37-4663792ee476",
   "metadata": {},
   "source": [
    "Change around the k value"
   ]
  },
  {
   "cell_type": "code",
   "execution_count": 10,
   "id": "e56ef40c-9432-4ff2-a366-9e9bccea9ca9",
   "metadata": {},
   "outputs": [
    {
     "data": {
      "text/plain": [
       "[<matplotlib.lines.Line2D at 0x14a2cb73d8e0>]"
      ]
     },
     "execution_count": 10,
     "metadata": {},
     "output_type": "execute_result"
    },
    {
     "data": {
      "image/png": "[encoded data removed]",
      "text/plain": [
       "<Figure size 432x288 with 1 Axes>"
      ]
     },
     "metadata": {
      "needs_background": "light"
     },
     "output_type": "display_data"
    }
   ],
   "source": [
    "scores = []\n",
    "for k in range(1,35,2):\n",
    "    preds = predict_all(tIb, tL, teIb, k)\n",
    "    scores.append(f1_score(teL, preds, average='micro'))\n",
    "\n",
    "plt.xlabel('K Values')\n",
    "plt.ylabel('F1 Score')\n",
    "plt.title('FMNIST')\n",
    "plt.plot(np.arange(1,35,2),scores, \"o-\")"
   ]
  },
  {
   "cell_type": "code",
   "execution_count": null,
   "id": "c172bb28-2dd4-4dd0-a75a-8bc417af3eec",
   "metadata": {},
   "outputs": [],
   "source": [
    "#Plotting figures \n",
    "plt.figure(figsize=(10,10))\n",
    "for i in range(20):\n",
    "    plt.subplot(5,5,i+1)\n",
    "    plt.xticks([])\n",
    "    plt.yticks([])\n",
    "    plt.grid(False)\n",
    "    plt.imshow(train_images[i].reshape(28, 28), cmap=plt.cm.binary)\n",
    "    plt.xlabel(train_labels[i])\n",
    "plt.show()"
   ]
  },
  {
   "cell_type": "code",
   "execution_count": 12,
   "id": "2b9fdcc2-5a38-429a-8446-903522c4b0ac",
   "metadata": {},
   "outputs": [
    {
     "data": {
      "text/plain": [
       "0.8554"
      ]
     },
     "execution_count": 12,
     "metadata": {},
     "output_type": "execute_result"
    }
   ],
   "source": [
    "#implementation of the scikit k-nearest neighbors\n",
    "from sklearn.neighbors import KNeighborsClassifier\n",
    "from sklearn.metrics import classification_report\n",
    "from sklearn.metrics import accuracy_score\n",
    "neigh = KNeighborsClassifier(n_neighbors=5)\n",
    "\n",
    "neigh.fit(train_images, train_labels)\n",
    "#params = neigh.get_params(deep=True)\n",
    "\n",
    "preds1 = neigh.predict(test_images)\n",
    "\n",
    "accuracy_score(test_labels, preds1)"
   ]
  },
  {
   "cell_type": "code",
   "execution_count": 17,
   "id": "fc40195c-1033-40b0-8f26-cecd75c5a13c",
   "metadata": {},
   "outputs": [
    {
     "data": {
      "text/plain": [
       "[<matplotlib.lines.Line2D at 0x14a2bf3f4070>]"
      ]
     },
     "execution_count": 17,
     "metadata": {},
     "output_type": "execute_result"
    },
    {
     "data": {
      "image/png": "[encoded data removed]",
      "text/plain": [
       "<Figure size 432x288 with 1 Axes>"
      ]
     },
     "metadata": {
      "needs_background": "light"
     },
     "output_type": "display_data"
    }
   ],
   "source": [
    "scores = []\n",
    "for k in range(1,35,2):\n",
    "    neigh = KNeighborsClassifier(n_neighbors=k)\n",
    "    neigh.fit(train_images, train_labels)\n",
    "    preds = neigh.predict(test_images)\n",
    "    scores.append(accuracy_score(test_labels, preds))\n",
    "\n",
    "plt.xlabel('K Values')\n",
    "plt.ylabel('Accuracy')\n",
    "plt.title('FMNIST SciKit')\n",
    "plt.plot(np.arange(1,35,2),scores, \"o-\")"
   ]
  },
  {
   "cell_type": "code",
   "execution_count": 20,
   "id": "78754a40-8e11-4090-b674-99d518e74d02",
   "metadata": {},
   "outputs": [
    {
     "name": "stdout",
     "output_type": "stream",
     "text": [
      "[[855   1  17  16   3   1 100   1   6   0]\n",
      " [  8 968   4  12   4   0   3   0   1   0]\n",
      " [ 24   2 819  11  75   0  69   0   0   0]\n",
      " [ 41   8  15 860  39   0  34   0   3   0]\n",
      " [  2   1 126  26 773   0  71   0   1   0]\n",
      " [  1   0   0   0   0 822   5  96   1  75]\n",
      " [176   1 132  23  80   0 575   0  13   0]\n",
      " [  0   0   0   0   0   3   0 961   0  36]\n",
      " [  2   0  10   4   7   0  16   7 953   1]\n",
      " [  0   0   0   0   0   2   1  29   0 968]]\n",
      "0.8554\n"
     ]
    }
   ],
   "source": [
    "#comparing actual positives to false positives, with its accuracy score\n",
    "print(confusion_matrix(test_labels, preds1))\n",
    "print(accuracy_score(test_labels, preds1))"
   ]
  },
  {
   "cell_type": "code",
   "execution_count": 31,
   "id": "cf6325b1-11b3-442c-933c-0a730b8c2a2c",
   "metadata": {},
   "outputs": [
    {
     "name": "stdout",
     "output_type": "stream",
     "text": [
      "              precision    recall  f1-score   support\n",
      "\n",
      "           0       0.77      0.85      0.81      1000\n",
      "           1       0.99      0.97      0.98      1000\n",
      "           2       0.73      0.82      0.77      1000\n",
      "           3       0.90      0.86      0.88      1000\n",
      "           4       0.79      0.77      0.78      1000\n",
      "           5       0.99      0.82      0.90      1000\n",
      "           6       0.66      0.57      0.61      1000\n",
      "           7       0.88      0.96      0.92      1000\n",
      "           8       0.97      0.95      0.96      1000\n",
      "           9       0.90      0.97      0.93      1000\n",
      "\n",
      "    accuracy                           0.86     10000\n",
      "   macro avg       0.86      0.86      0.85     10000\n",
      "weighted avg       0.86      0.86      0.85     10000\n",
      "\n"
     ]
    }
   ],
   "source": [
    "#break down of the accuracy of each label for knn \n",
    "print(classification_report(test_labels, preds1))"
   ]
  },
  {
   "cell_type": "code",
   "execution_count": 29,
   "id": "8c96a613-14ea-464a-98b1-4dd9a95e0571",
   "metadata": {},
   "outputs": [
    {
     "name": "stdout",
     "output_type": "stream",
     "text": [
      "0.8412\n"
     ]
    },
    {
     "name": "stderr",
     "output_type": "stream",
     "text": [
      "/opt/pub/eb/apps/all/DavidsonJupyter/2021-common-GCCcore-10.2.0/lib/python3.8/site-packages/sklearn/linear_model/_logistic.py:444: ConvergenceWarning: lbfgs failed to converge (status=1):\n",
      "STOP: TOTAL NO. of ITERATIONS REACHED LIMIT.\n",
      "\n",
      "Increase the number of iterations (max_iter) or scale the data as shown in:\n",
      "    https://scikit-learn.org/stable/modules/preprocessing.html\n",
      "Please also refer to the documentation for alternative solver options:\n",
      "    https://scikit-learn.org/stable/modules/linear_model.html#logistic-regression\n",
      "  n_iter_i = _check_optimize_result(\n"
     ]
    }
   ],
   "source": [
    "#implementation of the logistic regression\n",
    "from sklearn.linear_model import LogisticRegression\n",
    "logReg = LogisticRegression(random_state=0)\n",
    "logReg.fit(train_images, train_labels)\n",
    "pr = logReg.predict(test_images)\n",
    "print(accuracy_score(test_labels, pr))\n",
    "#Actually pretty good accuracy, comparable to the knn model"
   ]
  },
  {
   "cell_type": "code",
   "execution_count": 30,
   "id": "d5f19881-d955-462b-9fdf-c047d421a307",
   "metadata": {},
   "outputs": [
    {
     "name": "stdout",
     "output_type": "stream",
     "text": [
      "              precision    recall  f1-score   support\n",
      "\n",
      "           0       0.81      0.81      0.81      1000\n",
      "           1       0.97      0.96      0.96      1000\n",
      "           2       0.73      0.74      0.73      1000\n",
      "           3       0.84      0.86      0.85      1000\n",
      "           4       0.71      0.78      0.74      1000\n",
      "           5       0.94      0.89      0.92      1000\n",
      "           6       0.64      0.55      0.59      1000\n",
      "           7       0.90      0.93      0.92      1000\n",
      "           8       0.93      0.95      0.94      1000\n",
      "           9       0.93      0.94      0.94      1000\n",
      "\n",
      "    accuracy                           0.84     10000\n",
      "   macro avg       0.84      0.84      0.84     10000\n",
      "weighted avg       0.84      0.84      0.84     10000\n",
      "\n"
     ]
    }
   ],
   "source": [
    "#break down of the accuracy of each label for logReg\n",
    "print(classification_report(test_labels, pr))"
   ]
  },
  {
   "cell_type": "code",
   "execution_count": null,
   "id": "ee70af59-1d46-4a82-8ece-75cd48badebb",
   "metadata": {},
   "outputs": [],
   "source": []
  }
 ],
 "metadata": {
  "kernelspec": {
   "display_name": "Python 3.8",
   "language": "python",
   "name": "python3"
  },
  "language_info": {
   "codemirror_mode": {
    "name": "ipython",
    "version": 3
   },
   "file_extension": ".py",
   "mimetype": "text/x-python",
   "name": "python",
   "nbconvert_exporter": "python",
   "pygments_lexer": "ipython3",
   "version": "3.8.6"
  }
 },
 "nbformat": 4,
 "nbformat_minor": 5
}
